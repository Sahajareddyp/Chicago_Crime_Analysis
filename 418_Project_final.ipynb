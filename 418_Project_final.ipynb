{
  "cells": [
    {
      "cell_type": "markdown",
      "metadata": {
        "id": "view-in-github",
        "colab_type": "text"
      },
      "source": [
        "<a href=\"https://colab.research.google.com/github/CS418/group-project-jelabi/blob/main/418_Project_final.ipynb\" target=\"_parent\"><img src=\"https://colab.research.google.com/assets/colab-badge.svg\" alt=\"Open In Colab\"/></a>"
      ]
    },
    {
      "cell_type": "markdown",
      "metadata": {
        "id": "wK2IIbnXif7T"
      },
      "source": [
        "#Team Jalebi"
      ]
    },
    {
      "cell_type": "markdown",
      "metadata": {
        "id": "ww0K95dZ1Q9A"
      },
      "source": [
        "## Project introduction:\n",
        "The data we are analyzing is publicly accessible and located at https://data.cityofchicago.org/Public-Safety/Crimes-2022/9hwr-2zxp.\n",
        "It can be quickly accessed as a CSV file or through an API\n",
        "Depending on the year, each dataset contains roughly between 250,000-300,000 rows of reported crimes\n",
        "Each row contains various pieces of information about every reported crime, including location, timestamp, type, etc. \n",
        "We plan to answer few of the below questions:\n",
        "1. Which time of the day is safe?\n",
        "2. Which day of the week is most prone to crimes?\n",
        "3. What are the most common crimes?\n",
        "\n",
        "\n",
        "Our notebook can be found at: https://github.com/CS418/group-project-jelabi/blob/main/418_Project.ipynb"
      ]
    },
    {
      "cell_type": "code",
      "execution_count": 1,
      "metadata": {
        "colab": {
          "base_uri": "https://localhost:8080/"
        },
        "id": "xElQyN8U1Q9C",
        "outputId": "fe50faba-4c74-44fd-8593-7ac51b344379"
      },
      "outputs": [
        {
          "output_type": "stream",
          "name": "stdout",
          "text": [
            "Looking in indexes: https://pypi.org/simple, https://us-python.pkg.dev/colab-wheels/public/simple/\n",
            "Collecting psycopg2-binary\n",
            "  Downloading psycopg2_binary-2.9.5-cp37-cp37m-manylinux_2_17_x86_64.manylinux2014_x86_64.whl (3.0 MB)\n",
            "\u001b[K     |████████████████████████████████| 3.0 MB 8.4 MB/s \n",
            "\u001b[?25hInstalling collected packages: psycopg2-binary\n",
            "Successfully installed psycopg2-binary-2.9.5\n"
          ]
        }
      ],
      "source": [
        "!pip install psycopg2-binary"
      ]
    },
    {
      "cell_type": "code",
      "execution_count": 2,
      "metadata": {
        "colab": {
          "base_uri": "https://localhost:8080/"
        },
        "id": "YWJj3J1biU1r",
        "outputId": "581e241f-1f28-462d-b524-43c83dc002f9"
      },
      "outputs": [
        {
          "output_type": "stream",
          "name": "stdout",
          "text": [
            "Looking in indexes: https://pypi.org/simple, https://us-python.pkg.dev/colab-wheels/public/simple/\n",
            "Collecting sodapy\n",
            "  Downloading sodapy-2.2.0-py2.py3-none-any.whl (15 kB)\n",
            "Collecting requests>=2.28.1\n",
            "  Downloading requests-2.28.1-py3-none-any.whl (62 kB)\n",
            "\u001b[K     |████████████████████████████████| 62 kB 471 kB/s \n",
            "\u001b[?25hRequirement already satisfied: certifi>=2017.4.17 in /usr/local/lib/python3.7/dist-packages (from requests>=2.28.1->sodapy) (2022.9.24)\n",
            "Requirement already satisfied: idna<4,>=2.5 in /usr/local/lib/python3.7/dist-packages (from requests>=2.28.1->sodapy) (2.10)\n",
            "Requirement already satisfied: urllib3<1.27,>=1.21.1 in /usr/local/lib/python3.7/dist-packages (from requests>=2.28.1->sodapy) (1.24.3)\n",
            "Requirement already satisfied: charset-normalizer<3,>=2 in /usr/local/lib/python3.7/dist-packages (from requests>=2.28.1->sodapy) (2.1.1)\n",
            "Installing collected packages: requests, sodapy\n",
            "  Attempting uninstall: requests\n",
            "    Found existing installation: requests 2.23.0\n",
            "    Uninstalling requests-2.23.0:\n",
            "      Successfully uninstalled requests-2.23.0\n",
            "Successfully installed requests-2.28.1 sodapy-2.2.0\n"
          ]
        },
        {
          "output_type": "stream",
          "name": "stderr",
          "text": [
            "WARNING:root:Requests made without an app_token will be subject to strict throttling limits.\n"
          ]
        }
      ],
      "source": [
        "import warnings\n",
        "warnings.filterwarnings('ignore')\n",
        "%matplotlib inline\n",
        "import sys\n",
        "import pandas as pd\n",
        "import numpy as np\n",
        "import scipy as sc\n",
        "import math\n",
        "import io\n",
        "import matplotlib\n",
        "import matplotlib.pyplot as plt\n",
        "import psycopg2\n",
        "import seaborn as sns\n",
        "\n",
        "import pandas as pd\n",
        "!pip install sodapy\n",
        "from sodapy import Socrata\n",
        "\n",
        "# Unauthenticated client only works with public data sets. Note 'None'\n",
        "# in place of application token, and no username or password:\n",
        "client = Socrata(\"data.cityofchicago.org\", None)\n",
        "\n",
        "# Example authenticated client (needed for non-public datasets):\n",
        "# client = Socrata(data.cityofchicago.org,\n",
        "#                  MyAppToken,\n",
        "#                  username=\"user@example.com\",\n",
        "#                  password=\"AFakePassword\")\n",
        "\n",
        "# First 900000 results, returned as JSON from API / converted to Python list of\n",
        "# dictionaries by sodapy.\n",
        "results = client.get(\"9hwr-2zxp\", limit=900000)\n",
        "\n",
        "# Convert to pandas DataFrame\n",
        "dfOriginal = pd.DataFrame.from_records(results)\n",
        "#dfOriginal = pd.read_csv('/content/Crimes_-_2022.csv')\n",
        "#dfOriginal.head()"
      ]
    },
    {
      "cell_type": "code",
      "execution_count": 3,
      "metadata": {
        "id": "EgSnKOx71Q9F"
      },
      "outputs": [],
      "source": [
        "#!pip install wordcloud"
      ]
    },
    {
      "cell_type": "markdown",
      "metadata": {
        "id": "b7Nt7CPFiWEq"
      },
      "source": [
        "**Data Cleaning**"
      ]
    },
    {
      "cell_type": "markdown",
      "metadata": {
        "id": "R64Ld6ou1Q9G"
      },
      "source": [
        "### Data cleaning: Cleaning by dropping unneeded columns and combining others"
      ]
    },
    {
      "cell_type": "code",
      "execution_count": 4,
      "metadata": {
        "id": "phQHE69siX1a",
        "colab": {
          "base_uri": "https://localhost:8080/",
          "height": 595
        },
        "outputId": "53a129a9-939e-4aa9-abda-f3aa6fa0ce73"
      },
      "outputs": [
        {
          "output_type": "stream",
          "name": "stdout",
          "text": [
            "Length before cleaning: \n",
            "204993\n"
          ]
        },
        {
          "output_type": "execute_result",
          "data": {
            "text/plain": [
              "                      date                                           location  \\\n",
              "0  2022-11-14T23:59:00.000  {'latitude': '41.913011794', 'human_address': ...   \n",
              "1  2022-11-14T23:48:00.000  {'latitude': '41.868165405', 'human_address': ...   \n",
              "2  2022-11-14T23:47:00.000  {'latitude': '41.72398315', 'human_address': '...   \n",
              "3  2022-11-14T23:45:00.000  {'latitude': '41.955947624', 'human_address': ...   \n",
              "4  2022-11-14T23:39:00.000  {'latitude': '41.883322403', 'human_address': ...   \n",
              "\n",
              "  district                      block y_coordinate      latitude  \\\n",
              "0      018       017XX N CLYBOURN AVE      1911627  41.913011794   \n",
              "1      001           011XX S STATE ST      1895340  41.868165405   \n",
              "2      006  093XX S COTTAGE GROVE AVE      1842853   41.72398315   \n",
              "3      017         041XX N KEELER AVE      1927110  41.955947624   \n",
              "4      011       041XX W WEST END AVE      1900652  41.883322403   \n",
              "\n",
              "                      description         location_description  \\\n",
              "0                   FROM BUILDING  RESIDENCE - PORCH / HALLWAY   \n",
              "1  ARMED - OTHER DANGEROUS WEAPON                    CTA TRAIN   \n",
              "2            AGGRAVATED - HANDGUN        TAVERN / LIQUOR STORE   \n",
              "3  AGGRAVATED VEHICULAR HIJACKING                       STREET   \n",
              "4         HARASSMENT BY TELEPHONE                    APARTMENT   \n",
              "\n",
              "                updated_on community_area  ... ward case_number  year  \\\n",
              "0  2022-11-21T15:52:17.000              7  ...    2    JF477639  2022   \n",
              "1  2022-11-21T15:52:17.000             32  ...    4    JF475011  2022   \n",
              "2  2022-11-21T15:52:17.000             44  ...    8    JF474995  2022   \n",
              "3  2022-11-21T15:52:17.000             16  ...   39    JF474993  2022   \n",
              "4  2022-11-21T15:52:17.000             26  ...   28    JF474987  2022   \n",
              "\n",
              "  domestic fbi_code      longitude  beat   primary_type arrest        id  \n",
              "0    False       06  -87.652442988  1813          THEFT  False  12896019  \n",
              "1    False       03   -87.62743954  0123        ROBBERY  False  12894133  \n",
              "2    False      04B   -87.60451692  0633        BATTERY  False  12893228  \n",
              "3    False       03   -87.73254071  1722        ROBBERY  False  12893199  \n",
              "4    False       26  -87.729038837  1114  OTHER OFFENSE  False  12893229  \n",
              "\n",
              "[5 rows x 22 columns]"
            ],
            "text/html": [
              "\n",
              "  <div id=\"df-77304dc0-1fb5-4688-867a-a2f0df97fdf8\">\n",
              "    <div class=\"colab-df-container\">\n",
              "      <div>\n",
              "<style scoped>\n",
              "    .dataframe tbody tr th:only-of-type {\n",
              "        vertical-align: middle;\n",
              "    }\n",
              "\n",
              "    .dataframe tbody tr th {\n",
              "        vertical-align: top;\n",
              "    }\n",
              "\n",
              "    .dataframe thead th {\n",
              "        text-align: right;\n",
              "    }\n",
              "</style>\n",
              "<table border=\"1\" class=\"dataframe\">\n",
              "  <thead>\n",
              "    <tr style=\"text-align: right;\">\n",
              "      <th></th>\n",
              "      <th>date</th>\n",
              "      <th>location</th>\n",
              "      <th>district</th>\n",
              "      <th>block</th>\n",
              "      <th>y_coordinate</th>\n",
              "      <th>latitude</th>\n",
              "      <th>description</th>\n",
              "      <th>location_description</th>\n",
              "      <th>updated_on</th>\n",
              "      <th>community_area</th>\n",
              "      <th>...</th>\n",
              "      <th>ward</th>\n",
              "      <th>case_number</th>\n",
              "      <th>year</th>\n",
              "      <th>domestic</th>\n",
              "      <th>fbi_code</th>\n",
              "      <th>longitude</th>\n",
              "      <th>beat</th>\n",
              "      <th>primary_type</th>\n",
              "      <th>arrest</th>\n",
              "      <th>id</th>\n",
              "    </tr>\n",
              "  </thead>\n",
              "  <tbody>\n",
              "    <tr>\n",
              "      <th>0</th>\n",
              "      <td>2022-11-14T23:59:00.000</td>\n",
              "      <td>{'latitude': '41.913011794', 'human_address': ...</td>\n",
              "      <td>018</td>\n",
              "      <td>017XX N CLYBOURN AVE</td>\n",
              "      <td>1911627</td>\n",
              "      <td>41.913011794</td>\n",
              "      <td>FROM BUILDING</td>\n",
              "      <td>RESIDENCE - PORCH / HALLWAY</td>\n",
              "      <td>2022-11-21T15:52:17.000</td>\n",
              "      <td>7</td>\n",
              "      <td>...</td>\n",
              "      <td>2</td>\n",
              "      <td>JF477639</td>\n",
              "      <td>2022</td>\n",
              "      <td>False</td>\n",
              "      <td>06</td>\n",
              "      <td>-87.652442988</td>\n",
              "      <td>1813</td>\n",
              "      <td>THEFT</td>\n",
              "      <td>False</td>\n",
              "      <td>12896019</td>\n",
              "    </tr>\n",
              "    <tr>\n",
              "      <th>1</th>\n",
              "      <td>2022-11-14T23:48:00.000</td>\n",
              "      <td>{'latitude': '41.868165405', 'human_address': ...</td>\n",
              "      <td>001</td>\n",
              "      <td>011XX S STATE ST</td>\n",
              "      <td>1895340</td>\n",
              "      <td>41.868165405</td>\n",
              "      <td>ARMED - OTHER DANGEROUS WEAPON</td>\n",
              "      <td>CTA TRAIN</td>\n",
              "      <td>2022-11-21T15:52:17.000</td>\n",
              "      <td>32</td>\n",
              "      <td>...</td>\n",
              "      <td>4</td>\n",
              "      <td>JF475011</td>\n",
              "      <td>2022</td>\n",
              "      <td>False</td>\n",
              "      <td>03</td>\n",
              "      <td>-87.62743954</td>\n",
              "      <td>0123</td>\n",
              "      <td>ROBBERY</td>\n",
              "      <td>False</td>\n",
              "      <td>12894133</td>\n",
              "    </tr>\n",
              "    <tr>\n",
              "      <th>2</th>\n",
              "      <td>2022-11-14T23:47:00.000</td>\n",
              "      <td>{'latitude': '41.72398315', 'human_address': '...</td>\n",
              "      <td>006</td>\n",
              "      <td>093XX S COTTAGE GROVE AVE</td>\n",
              "      <td>1842853</td>\n",
              "      <td>41.72398315</td>\n",
              "      <td>AGGRAVATED - HANDGUN</td>\n",
              "      <td>TAVERN / LIQUOR STORE</td>\n",
              "      <td>2022-11-21T15:52:17.000</td>\n",
              "      <td>44</td>\n",
              "      <td>...</td>\n",
              "      <td>8</td>\n",
              "      <td>JF474995</td>\n",
              "      <td>2022</td>\n",
              "      <td>False</td>\n",
              "      <td>04B</td>\n",
              "      <td>-87.60451692</td>\n",
              "      <td>0633</td>\n",
              "      <td>BATTERY</td>\n",
              "      <td>False</td>\n",
              "      <td>12893228</td>\n",
              "    </tr>\n",
              "    <tr>\n",
              "      <th>3</th>\n",
              "      <td>2022-11-14T23:45:00.000</td>\n",
              "      <td>{'latitude': '41.955947624', 'human_address': ...</td>\n",
              "      <td>017</td>\n",
              "      <td>041XX N KEELER AVE</td>\n",
              "      <td>1927110</td>\n",
              "      <td>41.955947624</td>\n",
              "      <td>AGGRAVATED VEHICULAR HIJACKING</td>\n",
              "      <td>STREET</td>\n",
              "      <td>2022-11-21T15:52:17.000</td>\n",
              "      <td>16</td>\n",
              "      <td>...</td>\n",
              "      <td>39</td>\n",
              "      <td>JF474993</td>\n",
              "      <td>2022</td>\n",
              "      <td>False</td>\n",
              "      <td>03</td>\n",
              "      <td>-87.73254071</td>\n",
              "      <td>1722</td>\n",
              "      <td>ROBBERY</td>\n",
              "      <td>False</td>\n",
              "      <td>12893199</td>\n",
              "    </tr>\n",
              "    <tr>\n",
              "      <th>4</th>\n",
              "      <td>2022-11-14T23:39:00.000</td>\n",
              "      <td>{'latitude': '41.883322403', 'human_address': ...</td>\n",
              "      <td>011</td>\n",
              "      <td>041XX W WEST END AVE</td>\n",
              "      <td>1900652</td>\n",
              "      <td>41.883322403</td>\n",
              "      <td>HARASSMENT BY TELEPHONE</td>\n",
              "      <td>APARTMENT</td>\n",
              "      <td>2022-11-21T15:52:17.000</td>\n",
              "      <td>26</td>\n",
              "      <td>...</td>\n",
              "      <td>28</td>\n",
              "      <td>JF474987</td>\n",
              "      <td>2022</td>\n",
              "      <td>False</td>\n",
              "      <td>26</td>\n",
              "      <td>-87.729038837</td>\n",
              "      <td>1114</td>\n",
              "      <td>OTHER OFFENSE</td>\n",
              "      <td>False</td>\n",
              "      <td>12893229</td>\n",
              "    </tr>\n",
              "  </tbody>\n",
              "</table>\n",
              "<p>5 rows × 22 columns</p>\n",
              "</div>\n",
              "      <button class=\"colab-df-convert\" onclick=\"convertToInteractive('df-77304dc0-1fb5-4688-867a-a2f0df97fdf8')\"\n",
              "              title=\"Convert this dataframe to an interactive table.\"\n",
              "              style=\"display:none;\">\n",
              "        \n",
              "  <svg xmlns=\"http://www.w3.org/2000/svg\" height=\"24px\"viewBox=\"0 0 24 24\"\n",
              "       width=\"24px\">\n",
              "    <path d=\"M0 0h24v24H0V0z\" fill=\"none\"/>\n",
              "    <path d=\"M18.56 5.44l.94 2.06.94-2.06 2.06-.94-2.06-.94-.94-2.06-.94 2.06-2.06.94zm-11 1L8.5 8.5l.94-2.06 2.06-.94-2.06-.94L8.5 2.5l-.94 2.06-2.06.94zm10 10l.94 2.06.94-2.06 2.06-.94-2.06-.94-.94-2.06-.94 2.06-2.06.94z\"/><path d=\"M17.41 7.96l-1.37-1.37c-.4-.4-.92-.59-1.43-.59-.52 0-1.04.2-1.43.59L10.3 9.45l-7.72 7.72c-.78.78-.78 2.05 0 2.83L4 21.41c.39.39.9.59 1.41.59.51 0 1.02-.2 1.41-.59l7.78-7.78 2.81-2.81c.8-.78.8-2.07 0-2.86zM5.41 20L4 18.59l7.72-7.72 1.47 1.35L5.41 20z\"/>\n",
              "  </svg>\n",
              "      </button>\n",
              "      \n",
              "  <style>\n",
              "    .colab-df-container {\n",
              "      display:flex;\n",
              "      flex-wrap:wrap;\n",
              "      gap: 12px;\n",
              "    }\n",
              "\n",
              "    .colab-df-convert {\n",
              "      background-color: #E8F0FE;\n",
              "      border: none;\n",
              "      border-radius: 50%;\n",
              "      cursor: pointer;\n",
              "      display: none;\n",
              "      fill: #1967D2;\n",
              "      height: 32px;\n",
              "      padding: 0 0 0 0;\n",
              "      width: 32px;\n",
              "    }\n",
              "\n",
              "    .colab-df-convert:hover {\n",
              "      background-color: #E2EBFA;\n",
              "      box-shadow: 0px 1px 2px rgba(60, 64, 67, 0.3), 0px 1px 3px 1px rgba(60, 64, 67, 0.15);\n",
              "      fill: #174EA6;\n",
              "    }\n",
              "\n",
              "    [theme=dark] .colab-df-convert {\n",
              "      background-color: #3B4455;\n",
              "      fill: #D2E3FC;\n",
              "    }\n",
              "\n",
              "    [theme=dark] .colab-df-convert:hover {\n",
              "      background-color: #434B5C;\n",
              "      box-shadow: 0px 1px 3px 1px rgba(0, 0, 0, 0.15);\n",
              "      filter: drop-shadow(0px 1px 2px rgba(0, 0, 0, 0.3));\n",
              "      fill: #FFFFFF;\n",
              "    }\n",
              "  </style>\n",
              "\n",
              "      <script>\n",
              "        const buttonEl =\n",
              "          document.querySelector('#df-77304dc0-1fb5-4688-867a-a2f0df97fdf8 button.colab-df-convert');\n",
              "        buttonEl.style.display =\n",
              "          google.colab.kernel.accessAllowed ? 'block' : 'none';\n",
              "\n",
              "        async function convertToInteractive(key) {\n",
              "          const element = document.querySelector('#df-77304dc0-1fb5-4688-867a-a2f0df97fdf8');\n",
              "          const dataTable =\n",
              "            await google.colab.kernel.invokeFunction('convertToInteractive',\n",
              "                                                     [key], {});\n",
              "          if (!dataTable) return;\n",
              "\n",
              "          const docLinkHtml = 'Like what you see? Visit the ' +\n",
              "            '<a target=\"_blank\" href=https://colab.research.google.com/notebooks/data_table.ipynb>data table notebook</a>'\n",
              "            + ' to learn more about interactive tables.';\n",
              "          element.innerHTML = '';\n",
              "          dataTable['output_type'] = 'display_data';\n",
              "          await google.colab.output.renderOutput(dataTable, element);\n",
              "          const docLink = document.createElement('div');\n",
              "          docLink.innerHTML = docLinkHtml;\n",
              "          element.appendChild(docLink);\n",
              "        }\n",
              "      </script>\n",
              "    </div>\n",
              "  </div>\n",
              "  "
            ]
          },
          "metadata": {},
          "execution_count": 4
        }
      ],
      "source": [
        "#from wordcloud import WordCloud, STOPWORDS, ImageColorGenerator\n",
        "#print(df)\n",
        "print(\"Length before cleaning: \")\n",
        "print(len(dfOriginal))\n",
        "\n",
        "df = dfOriginal.drop(columns=['case_number', 'iucr', 'beat', 'fbi_code', 'updated_on','id', 'x_coordinate', 'y_coordinate', 'location']) #Cleaning by dropping unneeded columns\n",
        "dfOriginal.head()"
      ]
    },
    {
      "cell_type": "markdown",
      "metadata": {
        "id": "BnnxQV_j2ESf"
      },
      "source": [
        "Some more data cleaning"
      ]
    },
    {
      "cell_type": "code",
      "execution_count": 5,
      "metadata": {
        "id": "1C6dOXCziZGC",
        "colab": {
          "base_uri": "https://localhost:8080/",
          "height": 476
        },
        "outputId": "e6b931c3-dc70-4b35-d73c-bc2c032c5b38"
      },
      "outputs": [
        {
          "output_type": "stream",
          "name": "stdout",
          "text": [
            "Amount of missing values:\n",
            "3390\n",
            "\n",
            "Length after cleaning: \n",
            "203084\n"
          ]
        },
        {
          "output_type": "execute_result",
          "data": {
            "text/plain": [
              "                      date district                      block      latitude  \\\n",
              "0  2022-11-14T23:59:00.000      018       017XX N CLYBOURN AVE  41.913011794   \n",
              "1  2022-11-14T23:48:00.000      001           011XX S STATE ST  41.868165405   \n",
              "2  2022-11-14T23:47:00.000      006  093XX S COTTAGE GROVE AVE   41.72398315   \n",
              "3  2022-11-14T23:45:00.000      017         041XX N KEELER AVE  41.955947624   \n",
              "4  2022-11-14T23:39:00.000      011       041XX W WEST END AVE  41.883322403   \n",
              "\n",
              "                      description         location_description community_area  \\\n",
              "0                   FROM BUILDING  RESIDENCE - PORCH / HALLWAY              7   \n",
              "1  ARMED - OTHER DANGEROUS WEAPON                    CTA TRAIN             32   \n",
              "2            AGGRAVATED - HANDGUN        TAVERN / LIQUOR STORE             44   \n",
              "3  AGGRAVATED VEHICULAR HIJACKING                       STREET             16   \n",
              "4         HARASSMENT BY TELEPHONE                    APARTMENT             26   \n",
              "\n",
              "  ward  year  domestic      longitude   primary_type  arrest  \n",
              "0    2  2022     False  -87.652442988          THEFT   False  \n",
              "1    4  2022     False   -87.62743954        ROBBERY   False  \n",
              "2    8  2022     False   -87.60451692        ASSAULT   False  \n",
              "3   39  2022     False   -87.73254071        ROBBERY   False  \n",
              "4   28  2022     False  -87.729038837  OTHER OFFENSE   False  "
            ],
            "text/html": [
              "\n",
              "  <div id=\"df-8894c3ba-b3fc-4122-b95a-b34098acb991\">\n",
              "    <div class=\"colab-df-container\">\n",
              "      <div>\n",
              "<style scoped>\n",
              "    .dataframe tbody tr th:only-of-type {\n",
              "        vertical-align: middle;\n",
              "    }\n",
              "\n",
              "    .dataframe tbody tr th {\n",
              "        vertical-align: top;\n",
              "    }\n",
              "\n",
              "    .dataframe thead th {\n",
              "        text-align: right;\n",
              "    }\n",
              "</style>\n",
              "<table border=\"1\" class=\"dataframe\">\n",
              "  <thead>\n",
              "    <tr style=\"text-align: right;\">\n",
              "      <th></th>\n",
              "      <th>date</th>\n",
              "      <th>district</th>\n",
              "      <th>block</th>\n",
              "      <th>latitude</th>\n",
              "      <th>description</th>\n",
              "      <th>location_description</th>\n",
              "      <th>community_area</th>\n",
              "      <th>ward</th>\n",
              "      <th>year</th>\n",
              "      <th>domestic</th>\n",
              "      <th>longitude</th>\n",
              "      <th>primary_type</th>\n",
              "      <th>arrest</th>\n",
              "    </tr>\n",
              "  </thead>\n",
              "  <tbody>\n",
              "    <tr>\n",
              "      <th>0</th>\n",
              "      <td>2022-11-14T23:59:00.000</td>\n",
              "      <td>018</td>\n",
              "      <td>017XX N CLYBOURN AVE</td>\n",
              "      <td>41.913011794</td>\n",
              "      <td>FROM BUILDING</td>\n",
              "      <td>RESIDENCE - PORCH / HALLWAY</td>\n",
              "      <td>7</td>\n",
              "      <td>2</td>\n",
              "      <td>2022</td>\n",
              "      <td>False</td>\n",
              "      <td>-87.652442988</td>\n",
              "      <td>THEFT</td>\n",
              "      <td>False</td>\n",
              "    </tr>\n",
              "    <tr>\n",
              "      <th>1</th>\n",
              "      <td>2022-11-14T23:48:00.000</td>\n",
              "      <td>001</td>\n",
              "      <td>011XX S STATE ST</td>\n",
              "      <td>41.868165405</td>\n",
              "      <td>ARMED - OTHER DANGEROUS WEAPON</td>\n",
              "      <td>CTA TRAIN</td>\n",
              "      <td>32</td>\n",
              "      <td>4</td>\n",
              "      <td>2022</td>\n",
              "      <td>False</td>\n",
              "      <td>-87.62743954</td>\n",
              "      <td>ROBBERY</td>\n",
              "      <td>False</td>\n",
              "    </tr>\n",
              "    <tr>\n",
              "      <th>2</th>\n",
              "      <td>2022-11-14T23:47:00.000</td>\n",
              "      <td>006</td>\n",
              "      <td>093XX S COTTAGE GROVE AVE</td>\n",
              "      <td>41.72398315</td>\n",
              "      <td>AGGRAVATED - HANDGUN</td>\n",
              "      <td>TAVERN / LIQUOR STORE</td>\n",
              "      <td>44</td>\n",
              "      <td>8</td>\n",
              "      <td>2022</td>\n",
              "      <td>False</td>\n",
              "      <td>-87.60451692</td>\n",
              "      <td>ASSAULT</td>\n",
              "      <td>False</td>\n",
              "    </tr>\n",
              "    <tr>\n",
              "      <th>3</th>\n",
              "      <td>2022-11-14T23:45:00.000</td>\n",
              "      <td>017</td>\n",
              "      <td>041XX N KEELER AVE</td>\n",
              "      <td>41.955947624</td>\n",
              "      <td>AGGRAVATED VEHICULAR HIJACKING</td>\n",
              "      <td>STREET</td>\n",
              "      <td>16</td>\n",
              "      <td>39</td>\n",
              "      <td>2022</td>\n",
              "      <td>False</td>\n",
              "      <td>-87.73254071</td>\n",
              "      <td>ROBBERY</td>\n",
              "      <td>False</td>\n",
              "    </tr>\n",
              "    <tr>\n",
              "      <th>4</th>\n",
              "      <td>2022-11-14T23:39:00.000</td>\n",
              "      <td>011</td>\n",
              "      <td>041XX W WEST END AVE</td>\n",
              "      <td>41.883322403</td>\n",
              "      <td>HARASSMENT BY TELEPHONE</td>\n",
              "      <td>APARTMENT</td>\n",
              "      <td>26</td>\n",
              "      <td>28</td>\n",
              "      <td>2022</td>\n",
              "      <td>False</td>\n",
              "      <td>-87.729038837</td>\n",
              "      <td>OTHER OFFENSE</td>\n",
              "      <td>False</td>\n",
              "    </tr>\n",
              "  </tbody>\n",
              "</table>\n",
              "</div>\n",
              "      <button class=\"colab-df-convert\" onclick=\"convertToInteractive('df-8894c3ba-b3fc-4122-b95a-b34098acb991')\"\n",
              "              title=\"Convert this dataframe to an interactive table.\"\n",
              "              style=\"display:none;\">\n",
              "        \n",
              "  <svg xmlns=\"http://www.w3.org/2000/svg\" height=\"24px\"viewBox=\"0 0 24 24\"\n",
              "       width=\"24px\">\n",
              "    <path d=\"M0 0h24v24H0V0z\" fill=\"none\"/>\n",
              "    <path d=\"M18.56 5.44l.94 2.06.94-2.06 2.06-.94-2.06-.94-.94-2.06-.94 2.06-2.06.94zm-11 1L8.5 8.5l.94-2.06 2.06-.94-2.06-.94L8.5 2.5l-.94 2.06-2.06.94zm10 10l.94 2.06.94-2.06 2.06-.94-2.06-.94-.94-2.06-.94 2.06-2.06.94z\"/><path d=\"M17.41 7.96l-1.37-1.37c-.4-.4-.92-.59-1.43-.59-.52 0-1.04.2-1.43.59L10.3 9.45l-7.72 7.72c-.78.78-.78 2.05 0 2.83L4 21.41c.39.39.9.59 1.41.59.51 0 1.02-.2 1.41-.59l7.78-7.78 2.81-2.81c.8-.78.8-2.07 0-2.86zM5.41 20L4 18.59l7.72-7.72 1.47 1.35L5.41 20z\"/>\n",
              "  </svg>\n",
              "      </button>\n",
              "      \n",
              "  <style>\n",
              "    .colab-df-container {\n",
              "      display:flex;\n",
              "      flex-wrap:wrap;\n",
              "      gap: 12px;\n",
              "    }\n",
              "\n",
              "    .colab-df-convert {\n",
              "      background-color: #E8F0FE;\n",
              "      border: none;\n",
              "      border-radius: 50%;\n",
              "      cursor: pointer;\n",
              "      display: none;\n",
              "      fill: #1967D2;\n",
              "      height: 32px;\n",
              "      padding: 0 0 0 0;\n",
              "      width: 32px;\n",
              "    }\n",
              "\n",
              "    .colab-df-convert:hover {\n",
              "      background-color: #E2EBFA;\n",
              "      box-shadow: 0px 1px 2px rgba(60, 64, 67, 0.3), 0px 1px 3px 1px rgba(60, 64, 67, 0.15);\n",
              "      fill: #174EA6;\n",
              "    }\n",
              "\n",
              "    [theme=dark] .colab-df-convert {\n",
              "      background-color: #3B4455;\n",
              "      fill: #D2E3FC;\n",
              "    }\n",
              "\n",
              "    [theme=dark] .colab-df-convert:hover {\n",
              "      background-color: #434B5C;\n",
              "      box-shadow: 0px 1px 3px 1px rgba(0, 0, 0, 0.15);\n",
              "      filter: drop-shadow(0px 1px 2px rgba(0, 0, 0, 0.3));\n",
              "      fill: #FFFFFF;\n",
              "    }\n",
              "  </style>\n",
              "\n",
              "      <script>\n",
              "        const buttonEl =\n",
              "          document.querySelector('#df-8894c3ba-b3fc-4122-b95a-b34098acb991 button.colab-df-convert');\n",
              "        buttonEl.style.display =\n",
              "          google.colab.kernel.accessAllowed ? 'block' : 'none';\n",
              "\n",
              "        async function convertToInteractive(key) {\n",
              "          const element = document.querySelector('#df-8894c3ba-b3fc-4122-b95a-b34098acb991');\n",
              "          const dataTable =\n",
              "            await google.colab.kernel.invokeFunction('convertToInteractive',\n",
              "                                                     [key], {});\n",
              "          if (!dataTable) return;\n",
              "\n",
              "          const docLinkHtml = 'Like what you see? Visit the ' +\n",
              "            '<a target=\"_blank\" href=https://colab.research.google.com/notebooks/data_table.ipynb>data table notebook</a>'\n",
              "            + ' to learn more about interactive tables.';\n",
              "          element.innerHTML = '';\n",
              "          dataTable['output_type'] = 'display_data';\n",
              "          await google.colab.output.renderOutput(dataTable, element);\n",
              "          const docLink = document.createElement('div');\n",
              "          docLink.innerHTML = docLinkHtml;\n",
              "          element.appendChild(docLink);\n",
              "        }\n",
              "      </script>\n",
              "    </div>\n",
              "  </div>\n",
              "  "
            ]
          },
          "metadata": {},
          "execution_count": 5
        }
      ],
      "source": [
        "# Merging certain similar features\n",
        "#df = dfOriginal.drop(columns=['case_number', 'iucr', 'beat', 'fbi_code', 'updated_on']) #Cleaning by dropping unneeded columns\n",
        "df.loc[df[\"primary_type\"] == \"MOTOR VEHICLE THEFT\", \"primary_type\"] = \"THEFT\"\n",
        "df.loc[df[\"primary_type\"] == \"CRIMINAL SEXUAL ASSAULT\", \"primary_type\"] = \"SEX OFFENSE\"\n",
        "df.loc[df[\"primary_type\"] == \"BATTERY\", \"primary_type\"] = \"ASSAULT\"\n",
        "df.loc[df[\"primary_type\"] == \"CRIMINAL TRESPASS\", \"primary_type\"] = \"BURGLARY\"\n",
        "df.loc[df[\"primary_type\"] == \"INTERFERENCE WITH PUBLIC OFFICER\", \"primary_type\"] = \"PUBLIC PEACE VIOLATION\"\n",
        "df.loc[df[\"primary_type\"] == \"OBSCENITY\", \"primary_type\"] = \"PUBLIC PEACE VIOLATION\"\n",
        "df.loc[df[\"primary_type\"] == \"PUBLIC INDECENCY\", \"primary_type\"] = \"SEX OFFENSE\"\n",
        "df.loc[df[\"primary_type\"] == \"CONCEALED CARRY LICENSE VIOLATION\", \"primary_type\"] = \"WEAPONS VIOLATION\"\n",
        "df.loc[df[\"primary_type\"] == \"OTHER NARCOTIC VIOLATION\", \"primary_type\"] = \"NARCOTICS\"\n",
        "\n",
        "print(\"Amount of missing values:\")\n",
        "print(df.isna().sum().sum()) #Drop rows with any missing values, very small amount of data\n",
        "df.dropna(inplace=True)\n",
        "\n",
        "print(\"\\nLength after cleaning: \")\n",
        "print(len(df))\n",
        "df.head()"
      ]
    },
    {
      "cell_type": "markdown",
      "metadata": {
        "id": "nUYgregv1Q9I"
      },
      "source": [
        "### Exploratory data analysis: \n",
        "\n",
        "The data is primarily a large set of reported crime incidents. It contains a variety of important attributes for each crime, including but not limited to its location, the type of crime, the timestamp, whether or not it resulted in an arrest, etc. This dataset seems to heavily focus on location interestingly enough, as it has a variety of different attributes related to it such as coordinates, address, ward number, etc.\n",
        "<!-- \n",
        "Below are some wordclouds showing the relative frequency of crime types and locations. -->"
      ]
    },
    {
      "cell_type": "code",
      "execution_count": 6,
      "metadata": {
        "id": "jvcIQD8w1Q9I"
      },
      "outputs": [],
      "source": [
        "# text = df['location_description'].values \n",
        "\n",
        "# wordcloud = WordCloud(background_color=\"white\", width=800, height=400).generate(str(text))\n",
        "# plt.imshow(wordcloud)\n",
        "# plt.axis(\"off\")\n",
        "# plt.show()"
      ]
    },
    {
      "cell_type": "code",
      "execution_count": 7,
      "metadata": {
        "id": "spU8MG6Q1Q9J"
      },
      "outputs": [],
      "source": [
        "# text = df['primary_type'].values \n",
        "\n",
        "# wordcloud = WordCloud(background_color=\"white\", width=800, height=400).generate(str(text))\n",
        "# plt.imshow(wordcloud)\n",
        "# plt.axis(\"off\")\n",
        "# plt.show()"
      ]
    },
    {
      "cell_type": "code",
      "execution_count": 8,
      "metadata": {
        "id": "Vpt5xA6o1Q9K"
      },
      "outputs": [],
      "source": [
        "# text = df['primary_type'].values \n",
        "\n",
        "# wordcloud = WordCloud(background_color=\"white\", width=800, height=400).generate(str(text))\n",
        "# plt.imshow(wordcloud)\n",
        "# plt.axis(\"off\")\n",
        "# plt.show()"
      ]
    },
    {
      "cell_type": "markdown",
      "metadata": {
        "id": "TLgVZci1iZ_x"
      },
      "source": [
        "**Data Visualization**"
      ]
    },
    {
      "cell_type": "code",
      "execution_count": 9,
      "metadata": {
        "id": "szivcCcZibUC",
        "colab": {
          "base_uri": "https://localhost:8080/",
          "height": 1000
        },
        "outputId": "2623c4b9-8a12-4864-d05b-e21f76417d0f"
      },
      "outputs": [
        {
          "output_type": "display_data",
          "data": {
            "text/plain": [
              "<Figure size 432x288 with 1 Axes>"
            ],
            "image/png": "[encoded data removed]"
          },
          "metadata": {
            "needs_background": "light"
          }
        },
        {
          "output_type": "display_data",
          "data": {
            "text/plain": [
              "<Figure size 360x360 with 1 Axes>"
            ],
            "image/png": "[encoded data removed]"
          },
          "metadata": {}
        },
        {
          "output_type": "display_data",
          "data": {
            "text/plain": [
              "<Figure size 576x360 with 1 Axes>"
            ],
            "image/png": "[encoded data removed]"
          },
          "metadata": {
            "needs_background": "light"
          }
        }
      ],
      "source": [
        "df['primary_type'].value_counts().plot(kind='bar')\n",
        "plt.show()\n",
        "\n",
        "\n",
        "arrest_df = df['arrest'].value_counts()\n",
        "arrest_count = (arrest_df / df['arrest'].sum())\n",
        "arrest_count.rename(\"Detentions\",inplace=True)\n",
        "arrest_count.rename({True: 'Arrested', False: 'Not Arrested'},inplace=True)\n",
        "arrest_count.plot.pie(y=1, figsize=(5, 5))\n",
        "plt.show()\n",
        "\n",
        "crimeDate = df.copy(deep=True)\n",
        "crimeDate.date = pd.to_datetime(crimeDate.date, format = '%Y-%m-%dT%H:%M:%S.000')\n",
        "crimeDate.index = pd.DatetimeIndex(crimeDate.date)\n",
        "\n",
        "plt.figure(figsize = (8,5))\n",
        "crimeDate.groupby([crimeDate.index.month]).size().plot.line()\n",
        "\n",
        "plt.title('Crime By Month in 2022')\n",
        "plt.ylabel('Crime Count')\n",
        "plt.xlabel('Month')\n",
        "plt.show()"
      ]
    },
    {
      "cell_type": "markdown",
      "metadata": {
        "id": "hb6ECLhd2edm"
      },
      "source": [
        "3 visualizations are listed above. Contrary to popular opinion and our hypothesis, homicide was nowhere near the top number of crimes committed in Chicago. Theft and assault accounted for a majority. \n",
        "\n",
        "In addition, out of most reported crimes, only about 1/8 of them resulted in arrests. We had hypothesized this, as many crimes go unsolved in Chicago.\n",
        "\n",
        "Lastly, the final graph shows that crime rises significantly during the warmer spring and summer months, before falling in the winter and fall. This lines up with our hypothesis, as harsher weather depresses all sorts of activity. "
      ]
    },
    {
      "cell_type": "markdown",
      "source": [
        "**Random Forest Classifier Analysis**"
      ],
      "metadata": {
        "id": "OBI0py2UhKig"
      }
    },
    {
      "cell_type": "markdown",
      "source": [
        "In this, we used the positional data of a crime and the hour of the day to try and predict what type of crime it would be. This random forest analysis was not very accurate, with a score of only 33%. "
      ],
      "metadata": {
        "id": "TQzcKdXQmQgM"
      }
    },
    {
      "cell_type": "code",
      "execution_count": 10,
      "metadata": {
        "colab": {
          "base_uri": "https://localhost:8080/",
          "height": 401
        },
        "id": "eibpekHl2r-w",
        "outputId": "de0bd2d6-68f1-4dc8-c635-7f63e31004f9"
      },
      "outputs": [
        {
          "output_type": "stream",
          "name": "stdout",
          "text": [
            "Scores from Random Forest Classification: \n",
            "Accuracy:  0.3339488391560184\n",
            "Precision:  0.275803780631675\n",
            "F1 Score:  0.3339488391560184\n",
            "Recall:  0.3339488391560184\n",
            "Confusion Matrix: \n"
          ]
        },
        {
          "output_type": "execute_result",
          "data": {
            "text/plain": [
              "<sklearn.metrics._plot.confusion_matrix.ConfusionMatrixDisplay at 0x7f6e49506910>"
            ]
          },
          "metadata": {},
          "execution_count": 10
        },
        {
          "output_type": "display_data",
          "data": {
            "text/plain": [
              "<Figure size 432x288 with 2 Axes>"
            ],
            "image/png": "[encoded data removed]"
          },
          "metadata": {
            "needs_background": "light"
          }
        }
      ],
      "source": [
        "from sklearn.model_selection import train_test_split\n",
        "from sklearn.preprocessing import StandardScaler\n",
        "from sklearn import metrics\n",
        "from sklearn.ensemble import RandomForestClassifier\n",
        "from sklearn.neighbors import KNeighborsClassifier\n",
        "from sklearn.metrics import precision_score, recall_score, confusion_matrix, classification_report, accuracy_score, f1_score, ConfusionMatrixDisplay, RocCurveDisplay\n",
        "from sklearn.metrics import mean_squared_error, r2_score\n",
        "from sklearn.naive_bayes import GaussianNB\n",
        "\n",
        "#dfForest = dfOriginal.copy(deep=True)\n",
        "\n",
        "# Extracting the hour of the day from the date column for each crime\n",
        "df['dateTemp'] = pd.to_datetime(df['date'])\n",
        "df['hour'] = df['dateTemp'].dt.hour\n",
        "df = df.drop(['dateTemp'], axis=1) \n",
        "\n",
        "df['primary_type'] = pd.factorize(df[\"primary_type\"])[0]  \n",
        "df['hour'] = pd.factorize(df[\"hour\"])[0] \n",
        "df['longitude'] = pd.factorize(df[\"longitude\"])[0] \n",
        "df['latitude'] = pd.factorize(df[\"latitude\"])[0] \n",
        "\n",
        "Target = 'primary_type'\n",
        "Features = [\"longitude\", \"latitude\", \"hour\"]\n",
        "x, y = train_test_split(df, test_size =0.2, random_state=997)\n",
        "\n",
        "\n",
        "rf_model = RandomForestClassifier(n_estimators=150, max_depth = 15)\n",
        "\n",
        "rf_model.fit(X=x[Features],y=x[Target])\n",
        "\n",
        "\n",
        "result = rf_model.predict(y[Features])\n",
        "acccuracy = accuracy_score(y[Target], result)\n",
        "recall = recall_score(y[Target], result, average=\"weighted\")\n",
        "precision = precision_score(y[Target], result, average=\"weighted\")\n",
        "f1 = f1_score(y[Target], result, average='micro')\n",
        "confusion = confusion_matrix(y[Target], result)\n",
        "\n",
        "print(\"Scores from Random Forest Classification: \")\n",
        "print(\"Accuracy: \", acccuracy)\n",
        "print(\"Precision: \", precision)\n",
        "print(\"F1 Score: \", f1)\n",
        "print(\"Recall: \", recall)\n",
        "print(\"Confusion Matrix: \")\n",
        "#print(confusion)\n",
        "disp = ConfusionMatrixDisplay(confusion_matrix=confusion, display_labels=rf_model.classes_)\n",
        "disp.plot()\n",
        "\n",
        "\n"
      ]
    },
    {
      "cell_type": "code",
      "source": [
        "knn_model = KNeighborsClassifier(n_neighbors=150)\n",
        "knn_model.fit(X=x[Features],y=x[Target])\n",
        "\n",
        "# Prediction\n",
        "result = knn_model.predict(y[Features]) \n",
        "\n",
        "acccuracy = accuracy_score(y[Target], result)\n",
        "recall = recall_score(y[Target], result, average=\"weighted\")\n",
        "precision = precision_score(y[Target], result, average=\"weighted\")\n",
        "f1 = f1_score(y[Target], result, average='micro')\n",
        "confusion = confusion_matrix(y[Target], result)\n",
        "\n",
        "print(\"Scores from K-Nearest Neighbors: \")\n",
        "print(\"Accuracy    : \", acccuracy)\n",
        "print(\"Recall      : \", recall)\n",
        "print(\"Precision   : \", precision)\n",
        "print(\"F1 Score    : \", f1)\n",
        "print(\"Confusion Matrix: \")\n",
        "#print(confusion)\n",
        "disp = ConfusionMatrixDisplay(confusion_matrix=confusion, display_labels=knn_model.classes_)\n",
        "disp.plot()\n",
        "\n"
      ],
      "metadata": {
        "id": "nC46zQTtIdd9",
        "colab": {
          "base_uri": "https://localhost:8080/",
          "height": 401
        },
        "outputId": "975491ea-5976-46db-ee24-b60ab497d692"
      },
      "execution_count": 11,
      "outputs": [
        {
          "output_type": "stream",
          "name": "stdout",
          "text": [
            "Scores from K-Nearest Neighbors: \n",
            "Accuracy    :  0.3207770145505576\n",
            "Recall      :  0.3207770145505576\n",
            "Precision   :  0.21898274922299973\n",
            "F1 Score    :  0.3207770145505576\n",
            "Confusion Matrix: \n"
          ]
        },
        {
          "output_type": "execute_result",
          "data": {
            "text/plain": [
              "<sklearn.metrics._plot.confusion_matrix.ConfusionMatrixDisplay at 0x7f6e4918c490>"
            ]
          },
          "metadata": {},
          "execution_count": 11
        },
        {
          "output_type": "display_data",
          "data": {
            "text/plain": [
              "<Figure size 432x288 with 2 Axes>"
            ],
            "image/png": "[encoded data removed]"
          },
          "metadata": {
            "needs_background": "light"
          }
        }
      ]
    },
    {
      "cell_type": "code",
      "source": [
        "gaussian_model = GaussianNB()\n",
        "gaussian_model.fit(X=x[Features],y=x[Target])\n",
        "\n",
        "# Prediction\n",
        "result = gaussian_model.predict(y[Features]) \n",
        "\n",
        "acccuracy = accuracy_score(y[Target], result)\n",
        "recall = recall_score(y[Target], result, average=\"weighted\")\n",
        "precision = precision_score(y[Target], result, average=\"weighted\")\n",
        "f1 = f1_score(y[Target], result, average='micro')\n",
        "confusion = confusion_matrix(y[Target], result)\n",
        "disp = ConfusionMatrixDisplay(confusion_matrix=confusion, display_labels=gaussian_model.classes_)\n",
        "disp.plot()\n",
        "\n",
        "print(\"Scores from Gaussian Naive Bayes: \")\n",
        "print(\"Accuracy    : \", acccuracy)\n",
        "print(\"Recall      : \", recall)\n",
        "print(\"Precision   : \", precision)\n",
        "print(\"F1 Score    : \", f1)\n",
        "print(\"Confusion Matrix: \")\n",
        "#print(confusion)\n",
        "plt.show()"
      ],
      "metadata": {
        "colab": {
          "base_uri": "https://localhost:8080/",
          "height": 386
        },
        "id": "fkE_6aFqk4TS",
        "outputId": "3f0401db-e11c-4b11-cc64-c9a6d8bad406"
      },
      "execution_count": 12,
      "outputs": [
        {
          "output_type": "stream",
          "name": "stdout",
          "text": [
            "Scores from Gaussian Naive Bayes: \n",
            "Accuracy    :  0.31314474234926265\n",
            "Recall      :  0.31314474234926265\n",
            "Precision   :  0.20192985320339432\n",
            "F1 Score    :  0.31314474234926265\n",
            "Confusion Matrix: \n"
          ]
        },
        {
          "output_type": "display_data",
          "data": {
            "text/plain": [
              "<Figure size 432x288 with 2 Axes>"
            ],
            "image/png": "[encoded data removed]"
          },
          "metadata": {
            "needs_background": "light"
          }
        }
      ]
    },
    {
      "cell_type": "markdown",
      "source": [
        "# Results"
      ],
      "metadata": {
        "id": "pQeNV4gdhAs_"
      }
    },
    {
      "cell_type": "markdown",
      "source": [
        "The"
      ],
      "metadata": {
        "id": "qN7UzTd2hF8v"
      }
    },
    {
      "cell_type": "markdown",
      "metadata": {
        "id": "cbGLHho91LqI"
      },
      "source": [
        "# Reflection\n",
        "\n",
        "The hardest part of the project was that we did not have memory resources while making the code work and it kept crashing for the big dataset we have used. These were resolved by further trimming the data down and minimizing the features used in some analyses. Our initial insights and results are that the crime rate is definitely higher in the warmer months, and that most don't result in arrests, either because they go unsolved or for other reasons. The CPD has improvement to do in this regard. In addition, only a small fraction of crime in Chicago is actually homicide, so the population isn't as at risk of death as some media makes it out to be. Our biggest problems continue to be hardware, as well as figuring out appropriate ML algorithms to conduct analyses with. In addition, since we're using 2022 data to be up-to-date, we are missing November and December data mostly so that could result in biased analyses. We believe we are on track to finish this project by the end of the semester, and this is definitely worth proceeding with.  \n"
      ]
    }
  ],
  "metadata": {
    "colab": {
      "provenance": [],
      "include_colab_link": true
    },
    "kernelspec": {
      "display_name": "Python 3 (ipykernel)",
      "language": "python",
      "name": "python3"
    },
    "language_info": {
      "codemirror_mode": {
        "name": "ipython",
        "version": 3
      },
      "file_extension": ".py",
      "mimetype": "text/x-python",
      "name": "python",
      "nbconvert_exporter": "python",
      "pygments_lexer": "ipython3",
      "version": "3.9.12"
    }
  },
  "nbformat": 4,
  "nbformat_minor": 0
}