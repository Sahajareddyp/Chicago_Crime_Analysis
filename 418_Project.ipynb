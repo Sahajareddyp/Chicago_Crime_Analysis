{
  "cells": [
    {
      "cell_type": "markdown",
      "metadata": {
        "id": "view-in-github",
        "colab_type": "text"
      },
      "source": [
        "<a href=\"https://colab.research.google.com/github/CS418/group-project-jelabi/blob/main/418_Project.ipynb\" target=\"_parent\"><img src=\"https://colab.research.google.com/assets/colab-badge.svg\" alt=\"Open In Colab\"/></a>"
      ]
    },
    {
      "cell_type": "markdown",
      "metadata": {
        "id": "wK2IIbnXif7T"
      },
      "source": [
        "# Progress Report- Team Jalebi"
      ]
    },
    {
      "cell_type": "markdown",
      "metadata": {
        "id": "ww0K95dZ1Q9A"
      },
      "source": [
        "## Project introduction:\n",
        "The data we are analyzing is publicly accessible and located at https://data.cityofchicago.org/Public-Safety/Crimes-2022/9hwr-2zxp.\n",
        "It can be quickly accessed as a CSV file or through an API\n",
        "Depending on the year, each dataset contains roughly between 250,000-300,000 rows of reported crimes\n",
        "Each row contains various pieces of information about every reported crime, including location, timestamp, type, etc. \n",
        "We plan to answer few of the below questions:\n",
        "1. Which time of the day is safe?\n",
        "2. Which day of the week is most prone to crimes?\n",
        "3. What are the most common crimes?"
      ]
    },
    {
      "cell_type": "markdown",
      "metadata": {
        "id": "lZgJcKDX1Q9B"
      },
      "source": [
        "## Any changes:\n",
        "The scope has not changed since the check-in proposal slides.\n",
        "- With crime on the rise in the city, it’s important to understand for students and all residents alike where extra precautions must be taken when traveling, as well as when it should be done."
      ]
    },
    {
      "cell_type": "code",
      "execution_count": 70,
      "metadata": {
        "colab": {
          "base_uri": "https://localhost:8080/"
        },
        "id": "xElQyN8U1Q9C",
        "outputId": "6e40a0cb-a79e-4d88-bfed-2c556f7fd861"
      },
      "outputs": [
        {
          "output_type": "stream",
          "name": "stdout",
          "text": [
            "Looking in indexes: https://pypi.org/simple, https://us-python.pkg.dev/colab-wheels/public/simple/\n",
            "Requirement already satisfied: psycopg2-binary in /usr/local/lib/python3.7/dist-packages (2.9.5)\n"
          ]
        }
      ],
      "source": [
        "!pip install psycopg2-binary"
      ]
    },
    {
      "cell_type": "code",
      "execution_count": 71,
      "metadata": {
        "colab": {
          "base_uri": "https://localhost:8080/",
          "height": 699
        },
        "id": "YWJj3J1biU1r",
        "outputId": "22278ef1-3701-4595-a5c7-62665cae2d69"
      },
      "outputs": [
        {
          "output_type": "stream",
          "name": "stdout",
          "text": [
            "Looking in indexes: https://pypi.org/simple, https://us-python.pkg.dev/colab-wheels/public/simple/\n",
            "Requirement already satisfied: sodapy in /usr/local/lib/python3.7/dist-packages (2.2.0)\n",
            "Requirement already satisfied: requests>=2.28.1 in /usr/local/lib/python3.7/dist-packages (from sodapy) (2.28.1)\n",
            "Requirement already satisfied: idna<4,>=2.5 in /usr/local/lib/python3.7/dist-packages (from requests>=2.28.1->sodapy) (2.10)\n",
            "Requirement already satisfied: certifi>=2017.4.17 in /usr/local/lib/python3.7/dist-packages (from requests>=2.28.1->sodapy) (2022.9.24)\n",
            "Requirement already satisfied: urllib3<1.27,>=1.21.1 in /usr/local/lib/python3.7/dist-packages (from requests>=2.28.1->sodapy) (1.24.3)\n",
            "Requirement already satisfied: charset-normalizer<3,>=2 in /usr/local/lib/python3.7/dist-packages (from requests>=2.28.1->sodapy) (2.1.1)\n"
          ]
        },
        {
          "output_type": "stream",
          "name": "stderr",
          "text": [
            "WARNING:root:Requests made without an app_token will be subject to strict throttling limits.\n"
          ]
        },
        {
          "output_type": "execute_result",
          "data": {
            "text/plain": [
              "                      date                                           location  \\\n",
              "0  2022-10-28T23:57:00.000  {'latitude': '41.888969704', 'human_address': ...   \n",
              "1  2022-10-28T23:55:00.000  {'latitude': '41.774783621', 'human_address': ...   \n",
              "2  2022-10-28T23:54:00.000  {'latitude': '41.682562165', 'human_address': ...   \n",
              "3  2022-10-28T23:54:00.000  {'latitude': '42.016906591', 'human_address': ...   \n",
              "4  2022-10-28T23:51:00.000  {'latitude': '41.722768379', 'human_address': ...   \n",
              "\n",
              "  district                      block y_coordinate      latitude  \\\n",
              "0      011  004XX N CENTRAL PARK BLVD      1902734  41.888969704   \n",
              "1      008            068XX W 64TH PL      1860987  41.774783621   \n",
              "2      005           001XX E 116TH ST      1827724  41.682562165   \n",
              "3      024           074XX N CLARK ST      1949438  42.016906591   \n",
              "4      006     0000X W CTA 95TH ST LN      1842365  41.722768379   \n",
              "\n",
              "               description       location_description  \\\n",
              "0     ATTEMPT - AUTOMOBILE                     STREET   \n",
              "1  DOMESTIC BATTERY SIMPLE                  RESIDENCE   \n",
              "2     AGGRAVATED - HANDGUN                      ALLEY   \n",
              "3                   SIMPLE  NURSING / RETIREMENT HOME   \n",
              "4   STRONG ARM - NO WEAPON               CTA PLATFORM   \n",
              "\n",
              "                updated_on community_area  ... ward case_number  year  \\\n",
              "0  2022-11-04T16:48:00.000             23  ...   27    JF453485  2022   \n",
              "1  2022-11-04T16:48:00.000             64  ...   23    JF453490  2022   \n",
              "2  2022-11-04T16:48:00.000             53  ...    9    JF453482  2022   \n",
              "3  2022-11-04T16:48:00.000              1  ...   49    JF453478  2022   \n",
              "4  2022-11-04T16:48:00.000             49  ...   21    JF453531  2022   \n",
              "\n",
              "  domestic fbi_code      longitude  beat         primary_type arrest        id  \n",
              "0    False       07  -87.716583236  1122  MOTOR VEHICLE THEFT  False  12875557  \n",
              "1     True      08B  -87.791766285  0812              BATTERY  False  12875248  \n",
              "2    False      04B  -87.620122066  0532              BATTERY  False  12875208  \n",
              "3    False      08B  -87.675365909  2422              BATTERY  False  12875327  \n",
              "4    False       03  -87.624410361  0634              ROBBERY  False  12875211  \n",
              "\n",
              "[5 rows x 22 columns]"
            ],
            "text/html": [
              "\n",
              "  <div id=\"df-116e2782-2823-4463-aa9b-c44f96381a3c\">\n",
              "    <div class=\"colab-df-container\">\n",
              "      <div>\n",
              "<style scoped>\n",
              "    .dataframe tbody tr th:only-of-type {\n",
              "        vertical-align: middle;\n",
              "    }\n",
              "\n",
              "    .dataframe tbody tr th {\n",
              "        vertical-align: top;\n",
              "    }\n",
              "\n",
              "    .dataframe thead th {\n",
              "        text-align: right;\n",
              "    }\n",
              "</style>\n",
              "<table border=\"1\" class=\"dataframe\">\n",
              "  <thead>\n",
              "    <tr style=\"text-align: right;\">\n",
              "      <th></th>\n",
              "      <th>date</th>\n",
              "      <th>location</th>\n",
              "      <th>district</th>\n",
              "      <th>block</th>\n",
              "      <th>y_coordinate</th>\n",
              "      <th>latitude</th>\n",
              "      <th>description</th>\n",
              "      <th>location_description</th>\n",
              "      <th>updated_on</th>\n",
              "      <th>community_area</th>\n",
              "      <th>...</th>\n",
              "      <th>ward</th>\n",
              "      <th>case_number</th>\n",
              "      <th>year</th>\n",
              "      <th>domestic</th>\n",
              "      <th>fbi_code</th>\n",
              "      <th>longitude</th>\n",
              "      <th>beat</th>\n",
              "      <th>primary_type</th>\n",
              "      <th>arrest</th>\n",
              "      <th>id</th>\n",
              "    </tr>\n",
              "  </thead>\n",
              "  <tbody>\n",
              "    <tr>\n",
              "      <th>0</th>\n",
              "      <td>2022-10-28T23:57:00.000</td>\n",
              "      <td>{'latitude': '41.888969704', 'human_address': ...</td>\n",
              "      <td>011</td>\n",
              "      <td>004XX N CENTRAL PARK BLVD</td>\n",
              "      <td>1902734</td>\n",
              "      <td>41.888969704</td>\n",
              "      <td>ATTEMPT - AUTOMOBILE</td>\n",
              "      <td>STREET</td>\n",
              "      <td>2022-11-04T16:48:00.000</td>\n",
              "      <td>23</td>\n",
              "      <td>...</td>\n",
              "      <td>27</td>\n",
              "      <td>JF453485</td>\n",
              "      <td>2022</td>\n",
              "      <td>False</td>\n",
              "      <td>07</td>\n",
              "      <td>-87.716583236</td>\n",
              "      <td>1122</td>\n",
              "      <td>MOTOR VEHICLE THEFT</td>\n",
              "      <td>False</td>\n",
              "      <td>12875557</td>\n",
              "    </tr>\n",
              "    <tr>\n",
              "      <th>1</th>\n",
              "      <td>2022-10-28T23:55:00.000</td>\n",
              "      <td>{'latitude': '41.774783621', 'human_address': ...</td>\n",
              "      <td>008</td>\n",
              "      <td>068XX W 64TH PL</td>\n",
              "      <td>1860987</td>\n",
              "      <td>41.774783621</td>\n",
              "      <td>DOMESTIC BATTERY SIMPLE</td>\n",
              "      <td>RESIDENCE</td>\n",
              "      <td>2022-11-04T16:48:00.000</td>\n",
              "      <td>64</td>\n",
              "      <td>...</td>\n",
              "      <td>23</td>\n",
              "      <td>JF453490</td>\n",
              "      <td>2022</td>\n",
              "      <td>True</td>\n",
              "      <td>08B</td>\n",
              "      <td>-87.791766285</td>\n",
              "      <td>0812</td>\n",
              "      <td>BATTERY</td>\n",
              "      <td>False</td>\n",
              "      <td>12875248</td>\n",
              "    </tr>\n",
              "    <tr>\n",
              "      <th>2</th>\n",
              "      <td>2022-10-28T23:54:00.000</td>\n",
              "      <td>{'latitude': '41.682562165', 'human_address': ...</td>\n",
              "      <td>005</td>\n",
              "      <td>001XX E 116TH ST</td>\n",
              "      <td>1827724</td>\n",
              "      <td>41.682562165</td>\n",
              "      <td>AGGRAVATED - HANDGUN</td>\n",
              "      <td>ALLEY</td>\n",
              "      <td>2022-11-04T16:48:00.000</td>\n",
              "      <td>53</td>\n",
              "      <td>...</td>\n",
              "      <td>9</td>\n",
              "      <td>JF453482</td>\n",
              "      <td>2022</td>\n",
              "      <td>False</td>\n",
              "      <td>04B</td>\n",
              "      <td>-87.620122066</td>\n",
              "      <td>0532</td>\n",
              "      <td>BATTERY</td>\n",
              "      <td>False</td>\n",
              "      <td>12875208</td>\n",
              "    </tr>\n",
              "    <tr>\n",
              "      <th>3</th>\n",
              "      <td>2022-10-28T23:54:00.000</td>\n",
              "      <td>{'latitude': '42.016906591', 'human_address': ...</td>\n",
              "      <td>024</td>\n",
              "      <td>074XX N CLARK ST</td>\n",
              "      <td>1949438</td>\n",
              "      <td>42.016906591</td>\n",
              "      <td>SIMPLE</td>\n",
              "      <td>NURSING / RETIREMENT HOME</td>\n",
              "      <td>2022-11-04T16:48:00.000</td>\n",
              "      <td>1</td>\n",
              "      <td>...</td>\n",
              "      <td>49</td>\n",
              "      <td>JF453478</td>\n",
              "      <td>2022</td>\n",
              "      <td>False</td>\n",
              "      <td>08B</td>\n",
              "      <td>-87.675365909</td>\n",
              "      <td>2422</td>\n",
              "      <td>BATTERY</td>\n",
              "      <td>False</td>\n",
              "      <td>12875327</td>\n",
              "    </tr>\n",
              "    <tr>\n",
              "      <th>4</th>\n",
              "      <td>2022-10-28T23:51:00.000</td>\n",
              "      <td>{'latitude': '41.722768379', 'human_address': ...</td>\n",
              "      <td>006</td>\n",
              "      <td>0000X W CTA 95TH ST LN</td>\n",
              "      <td>1842365</td>\n",
              "      <td>41.722768379</td>\n",
              "      <td>STRONG ARM - NO WEAPON</td>\n",
              "      <td>CTA PLATFORM</td>\n",
              "      <td>2022-11-04T16:48:00.000</td>\n",
              "      <td>49</td>\n",
              "      <td>...</td>\n",
              "      <td>21</td>\n",
              "      <td>JF453531</td>\n",
              "      <td>2022</td>\n",
              "      <td>False</td>\n",
              "      <td>03</td>\n",
              "      <td>-87.624410361</td>\n",
              "      <td>0634</td>\n",
              "      <td>ROBBERY</td>\n",
              "      <td>False</td>\n",
              "      <td>12875211</td>\n",
              "    </tr>\n",
              "  </tbody>\n",
              "</table>\n",
              "<p>5 rows × 22 columns</p>\n",
              "</div>\n",
              "      <button class=\"colab-df-convert\" onclick=\"convertToInteractive('df-116e2782-2823-4463-aa9b-c44f96381a3c')\"\n",
              "              title=\"Convert this dataframe to an interactive table.\"\n",
              "              style=\"display:none;\">\n",
              "        \n",
              "  <svg xmlns=\"http://www.w3.org/2000/svg\" height=\"24px\"viewBox=\"0 0 24 24\"\n",
              "       width=\"24px\">\n",
              "    <path d=\"M0 0h24v24H0V0z\" fill=\"none\"/>\n",
              "    <path d=\"M18.56 5.44l.94 2.06.94-2.06 2.06-.94-2.06-.94-.94-2.06-.94 2.06-2.06.94zm-11 1L8.5 8.5l.94-2.06 2.06-.94-2.06-.94L8.5 2.5l-.94 2.06-2.06.94zm10 10l.94 2.06.94-2.06 2.06-.94-2.06-.94-.94-2.06-.94 2.06-2.06.94z\"/><path d=\"M17.41 7.96l-1.37-1.37c-.4-.4-.92-.59-1.43-.59-.52 0-1.04.2-1.43.59L10.3 9.45l-7.72 7.72c-.78.78-.78 2.05 0 2.83L4 21.41c.39.39.9.59 1.41.59.51 0 1.02-.2 1.41-.59l7.78-7.78 2.81-2.81c.8-.78.8-2.07 0-2.86zM5.41 20L4 18.59l7.72-7.72 1.47 1.35L5.41 20z\"/>\n",
              "  </svg>\n",
              "      </button>\n",
              "      \n",
              "  <style>\n",
              "    .colab-df-container {\n",
              "      display:flex;\n",
              "      flex-wrap:wrap;\n",
              "      gap: 12px;\n",
              "    }\n",
              "\n",
              "    .colab-df-convert {\n",
              "      background-color: #E8F0FE;\n",
              "      border: none;\n",
              "      border-radius: 50%;\n",
              "      cursor: pointer;\n",
              "      display: none;\n",
              "      fill: #1967D2;\n",
              "      height: 32px;\n",
              "      padding: 0 0 0 0;\n",
              "      width: 32px;\n",
              "    }\n",
              "\n",
              "    .colab-df-convert:hover {\n",
              "      background-color: #E2EBFA;\n",
              "      box-shadow: 0px 1px 2px rgba(60, 64, 67, 0.3), 0px 1px 3px 1px rgba(60, 64, 67, 0.15);\n",
              "      fill: #174EA6;\n",
              "    }\n",
              "\n",
              "    [theme=dark] .colab-df-convert {\n",
              "      background-color: #3B4455;\n",
              "      fill: #D2E3FC;\n",
              "    }\n",
              "\n",
              "    [theme=dark] .colab-df-convert:hover {\n",
              "      background-color: #434B5C;\n",
              "      box-shadow: 0px 1px 3px 1px rgba(0, 0, 0, 0.15);\n",
              "      filter: drop-shadow(0px 1px 2px rgba(0, 0, 0, 0.3));\n",
              "      fill: #FFFFFF;\n",
              "    }\n",
              "  </style>\n",
              "\n",
              "      <script>\n",
              "        const buttonEl =\n",
              "          document.querySelector('#df-116e2782-2823-4463-aa9b-c44f96381a3c button.colab-df-convert');\n",
              "        buttonEl.style.display =\n",
              "          google.colab.kernel.accessAllowed ? 'block' : 'none';\n",
              "\n",
              "        async function convertToInteractive(key) {\n",
              "          const element = document.querySelector('#df-116e2782-2823-4463-aa9b-c44f96381a3c');\n",
              "          const dataTable =\n",
              "            await google.colab.kernel.invokeFunction('convertToInteractive',\n",
              "                                                     [key], {});\n",
              "          if (!dataTable) return;\n",
              "\n",
              "          const docLinkHtml = 'Like what you see? Visit the ' +\n",
              "            '<a target=\"_blank\" href=https://colab.research.google.com/notebooks/data_table.ipynb>data table notebook</a>'\n",
              "            + ' to learn more about interactive tables.';\n",
              "          element.innerHTML = '';\n",
              "          dataTable['output_type'] = 'display_data';\n",
              "          await google.colab.output.renderOutput(dataTable, element);\n",
              "          const docLink = document.createElement('div');\n",
              "          docLink.innerHTML = docLinkHtml;\n",
              "          element.appendChild(docLink);\n",
              "        }\n",
              "      </script>\n",
              "    </div>\n",
              "  </div>\n",
              "  "
            ]
          },
          "metadata": {},
          "execution_count": 71
        }
      ],
      "source": [
        "import warnings\n",
        "warnings.filterwarnings('ignore')\n",
        "%matplotlib inline\n",
        "import sys\n",
        "import pandas as pd\n",
        "import numpy as np\n",
        "import scipy as sc\n",
        "import math\n",
        "import io\n",
        "import matplotlib\n",
        "import matplotlib.pyplot as plt\n",
        "import psycopg2\n",
        "import seaborn as sns\n",
        "\n",
        "import pandas as pd\n",
        "!pip install sodapy\n",
        "from sodapy import Socrata\n",
        "\n",
        "# Unauthenticated client only works with public data sets. Note 'None'\n",
        "# in place of application token, and no username or password:\n",
        "client = Socrata(\"data.cityofchicago.org\", None)\n",
        "\n",
        "# Example authenticated client (needed for non-public datasets):\n",
        "# client = Socrata(data.cityofchicago.org,\n",
        "#                  MyAppToken,\n",
        "#                  username=\"user@example.com\",\n",
        "#                  password=\"AFakePassword\")\n",
        "\n",
        "# First 200000 results, returned as JSON from API / converted to Python list of\n",
        "# dictionaries by sodapy.\n",
        "results = client.get(\"9hwr-2zxp\", limit=200000)\n",
        "\n",
        "# Convert to pandas DataFrame\n",
        "dfOriginal = pd.DataFrame.from_records(results)\n",
        "#dfOriginal = pd.read_csv('/content/Crimes_-_2022.csv')\n",
        "dfOriginal.head()"
      ]
    },
    {
      "cell_type": "code",
      "execution_count": 72,
      "metadata": {
        "colab": {
          "base_uri": "https://localhost:8080/"
        },
        "id": "EgSnKOx71Q9F",
        "outputId": "555d230a-dfb4-47a5-9fa2-926306933491"
      },
      "outputs": [
        {
          "output_type": "stream",
          "name": "stdout",
          "text": [
            "Looking in indexes: https://pypi.org/simple, https://us-python.pkg.dev/colab-wheels/public/simple/\n",
            "Requirement already satisfied: wordcloud in /usr/local/lib/python3.7/dist-packages (1.8.2.2)\n",
            "Requirement already satisfied: pillow in /usr/local/lib/python3.7/dist-packages (from wordcloud) (7.1.2)\n",
            "Requirement already satisfied: matplotlib in /usr/local/lib/python3.7/dist-packages (from wordcloud) (3.2.2)\n",
            "Requirement already satisfied: numpy>=1.6.1 in /usr/local/lib/python3.7/dist-packages (from wordcloud) (1.21.6)\n",
            "Requirement already satisfied: kiwisolver>=1.0.1 in /usr/local/lib/python3.7/dist-packages (from matplotlib->wordcloud) (1.4.4)\n",
            "Requirement already satisfied: python-dateutil>=2.1 in /usr/local/lib/python3.7/dist-packages (from matplotlib->wordcloud) (2.8.2)\n",
            "Requirement already satisfied: cycler>=0.10 in /usr/local/lib/python3.7/dist-packages (from matplotlib->wordcloud) (0.11.0)\n",
            "Requirement already satisfied: pyparsing!=2.0.4,!=2.1.2,!=2.1.6,>=2.0.1 in /usr/local/lib/python3.7/dist-packages (from matplotlib->wordcloud) (3.0.9)\n",
            "Requirement already satisfied: typing-extensions in /usr/local/lib/python3.7/dist-packages (from kiwisolver>=1.0.1->matplotlib->wordcloud) (4.1.1)\n",
            "Requirement already satisfied: six>=1.5 in /usr/local/lib/python3.7/dist-packages (from python-dateutil>=2.1->matplotlib->wordcloud) (1.15.0)\n"
          ]
        }
      ],
      "source": [
        "!pip install wordcloud"
      ]
    },
    {
      "cell_type": "markdown",
      "metadata": {
        "id": "b7Nt7CPFiWEq"
      },
      "source": [
        "**Data Cleaning**"
      ]
    },
    {
      "cell_type": "markdown",
      "metadata": {
        "id": "R64Ld6ou1Q9G"
      },
      "source": [
        "### Data cleaning: Cleaning by dropping unneeded columns"
      ]
    },
    {
      "cell_type": "code",
      "execution_count": 73,
      "metadata": {
        "id": "phQHE69siX1a"
      },
      "outputs": [],
      "source": [
        "from wordcloud import WordCloud, STOPWORDS, ImageColorGenerator\n",
        "df = dfOriginal.drop(columns=['case_number', 'iucr', 'beat', 'fbi_code', 'updated_on','id', 'x_coordinate', 'y_coordinate', 'location']) #Cleaning by dropping unneeded columns"
      ]
    },
    {
      "cell_type": "markdown",
      "metadata": {
        "id": "nUYgregv1Q9I"
      },
      "source": [
        "### Exploratory data analysis: \n",
        "\n",
        "The data is primarily a large set of reported crime incidents. It contains a variety of important attributes for each crime, including but not limited to its location, the type of crime, the timestamp, whether or not it resulted in an arrest, etc. This dataset seems to heavily focus on location interestingly enough, as it has a variety of different attributes related to it such as coordinates, address, ward number, etc.\n",
        "\n",
        "Below are some wordclouds showing the relative frequency of crime types and locations."
      ]
    },
    {
      "cell_type": "code",
      "execution_count": 74,
      "metadata": {
        "id": "jvcIQD8w1Q9I",
        "colab": {
          "base_uri": "https://localhost:8080/",
          "height": 198
        },
        "outputId": "f53ccd24-fb45-4831-beeb-16d306445a47"
      },
      "outputs": [
        {
          "output_type": "display_data",
          "data": {
            "text/plain": [
              "<Figure size 432x288 with 1 Axes>"
            ],
            "image/png": "[encoded data removed]"
          },
          "metadata": {
            "needs_background": "light"
          }
        }
      ],
      "source": [
        "text = df['location_description'].values \n",
        "\n",
        "wordcloud = WordCloud(background_color=\"white\", width=800, height=400).generate(str(text))\n",
        "plt.imshow(wordcloud)\n",
        "plt.axis(\"off\")\n",
        "plt.show()"
      ]
    },
    {
      "cell_type": "code",
      "execution_count": 75,
      "metadata": {
        "id": "spU8MG6Q1Q9J",
        "colab": {
          "base_uri": "https://localhost:8080/",
          "height": 198
        },
        "outputId": "94092187-abbf-4360-8651-b57fd6674cf0"
      },
      "outputs": [
        {
          "output_type": "display_data",
          "data": {
            "text/plain": [
              "<Figure size 432x288 with 1 Axes>"
            ],
            "image/png": "[encoded data removed]"
          },
          "metadata": {
            "needs_background": "light"
          }
        }
      ],
      "source": [
        "text = df['primary_type'].values \n",
        "\n",
        "wordcloud = WordCloud(background_color=\"white\", width=800, height=400).generate(str(text))\n",
        "plt.imshow(wordcloud)\n",
        "plt.axis(\"off\")\n",
        "plt.show()"
      ]
    },
    {
      "cell_type": "markdown",
      "metadata": {
        "id": "BnnxQV_j2ESf"
      },
      "source": [
        "Some more data cleaning"
      ]
    },
    {
      "cell_type": "code",
      "execution_count": 76,
      "metadata": {
        "id": "1C6dOXCziZGC",
        "colab": {
          "base_uri": "https://localhost:8080/"
        },
        "outputId": "1ba655ae-03a5-4a8e-ae59-815f39cba6ac"
      },
      "outputs": [
        {
          "output_type": "execute_result",
          "data": {
            "text/plain": [
              "3301"
            ]
          },
          "metadata": {},
          "execution_count": 76
        }
      ],
      "source": [
        "# Merging certain similar features\n",
        "#df = dfOriginal.drop(columns=['case_number', 'iucr', 'beat', 'fbi_code', 'updated_on']) #Cleaning by dropping unneeded columns\n",
        "df.loc[df[\"primary_type\"] == \"MOTOR VEHICLE THEFT\", \"primary_type\"] = \"THEFT\"\n",
        "df.loc[df[\"primary_type\"] == \"CRIMINAL SEXUAL ASSAULT\", \"primary_type\"] = \"SEX OFFENSE\"\n",
        "df.loc[df[\"primary_type\"] == \"BATTERY\", \"primary_type\"] = \"ASSAULT\"\n",
        "df.loc[df[\"primary_type\"] == \"CRIMINAL TRESPASS\", \"primary_type\"] = \"BURGLARY\"\n",
        "df.loc[df[\"primary_type\"] == \"INTERFERENCE WITH PUBLIC OFFICER\", \"primary_type\"] = \"PUBLIC PEACE VIOLATION\"\n",
        "df.loc[df[\"primary_type\"] == \"OBSCENITY\", \"primary_type\"] = \"PUBLIC PEACE VIOLATION\"\n",
        "df.loc[df[\"primary_type\"] == \"PUBLIC INDECENCY\", \"primary_type\"] = \"SEX OFFENSE\"\n",
        "df.loc[df[\"primary_type\"] == \"CONCEALED CARRY LICENSE VIOLATION\", \"primary_type\"] = \"WEAPONS VIOLATION\"\n",
        "df.loc[df[\"primary_type\"] == \"OTHER NARCOTIC VIOLATION\", \"primary_type\"] = \"NARCOTICS\"\n",
        "\n",
        "\n",
        "df.isna().sum().sum() #Drop rows with any missing values, very small amount of data\n"
      ]
    },
    {
      "cell_type": "code",
      "execution_count": 77,
      "metadata": {
        "id": "Vpt5xA6o1Q9K",
        "colab": {
          "base_uri": "https://localhost:8080/",
          "height": 198
        },
        "outputId": "ee45769c-47bf-4902-c3aa-565af95dc33d"
      },
      "outputs": [
        {
          "output_type": "display_data",
          "data": {
            "text/plain": [
              "<Figure size 432x288 with 1 Axes>"
            ],
            "image/png": "[encoded data removed]"
          },
          "metadata": {
            "needs_background": "light"
          }
        }
      ],
      "source": [
        "text = df['primary_type'].values \n",
        "\n",
        "wordcloud = WordCloud(background_color=\"white\", width=800, height=400).generate(str(text))\n",
        "plt.imshow(wordcloud)\n",
        "plt.axis(\"off\")\n",
        "plt.show()"
      ]
    },
    {
      "cell_type": "markdown",
      "metadata": {
        "id": "TLgVZci1iZ_x"
      },
      "source": [
        "**Data Visualization**"
      ]
    },
    {
      "cell_type": "code",
      "execution_count": 78,
      "metadata": {
        "id": "szivcCcZibUC",
        "colab": {
          "base_uri": "https://localhost:8080/",
          "height": 1000
        },
        "outputId": "68cd7208-e7a0-4ca0-fda6-13b0153f1908"
      },
      "outputs": [
        {
          "output_type": "display_data",
          "data": {
            "text/plain": [
              "<Figure size 432x288 with 1 Axes>"
            ],
            "image/png": "[encoded data removed]"
          },
          "metadata": {
            "needs_background": "light"
          }
        },
        {
          "output_type": "display_data",
          "data": {
            "text/plain": [
              "<Figure size 360x360 with 1 Axes>"
            ],
            "image/png": "[encoded data removed]"
          },
          "metadata": {}
        },
        {
          "output_type": "display_data",
          "data": {
            "text/plain": [
              "<Figure size 576x360 with 1 Axes>"
            ],
            "image/png": "[encoded data removed]"
          },
          "metadata": {
            "needs_background": "light"
          }
        }
      ],
      "source": [
        "df['primary_type'].value_counts().plot(kind='bar')\n",
        "plt.show()\n",
        "\n",
        "\n",
        "arrest_df = df['arrest'].value_counts()\n",
        "arrest_count = (arrest_df / df['arrest'].sum())\n",
        "arrest_count.rename(\"Detentions\",inplace=True)\n",
        "arrest_count.rename({True: 'Arrested', False: 'Not Arrested'},inplace=True)\n",
        "arrest_count.plot.pie(y=1, figsize=(5, 5))\n",
        "plt.show()\n",
        "\n",
        "crimeDate = df.copy(deep=True)\n",
        "crimeDate.date = pd.to_datetime(crimeDate.date, format = '%Y-%m-%dT%H:%M:%S.000')\n",
        "crimeDate.index = pd.DatetimeIndex(crimeDate.date)\n",
        "\n",
        "plt.figure(figsize = (8,5))\n",
        "crimeDate.groupby([crimeDate.index.month]).size().plot.line()\n",
        "\n",
        "plt.title('Crime By Month in 2022')\n",
        "plt.ylabel('Crime Count')\n",
        "plt.xlabel('Month')\n",
        "plt.show()"
      ]
    },
    {
      "cell_type": "markdown",
      "metadata": {
        "id": "hb6ECLhd2edm"
      },
      "source": [
        "3 visualizations are listed above. Contrary to popular opinion and our hypothesis, homicide was nowhere near the top number of crimes committed in Chicago. Theft and assault accounted for a majority. \n",
        "\n",
        "In addition, out of most reported crimes, only about 1/8 of them resulted in arrests. We had hypothesized this, as many crimes go unsolved in Chicago.\n",
        "\n",
        "Lastly, the final graph shows that crime rises significantly during the warmer spring and summer months, before falling in the winter and fall. This lines up with our hypothesis, as harsher weather depresses all sorts of activity. "
      ]
    },
    {
      "cell_type": "markdown",
      "source": [
        "**Random Forest Classifier Analysis**"
      ],
      "metadata": {
        "id": "OBI0py2UhKig"
      }
    },
    {
      "cell_type": "markdown",
      "source": [
        "In this, we used the positional data of a crime and the hour of the day to try and predict what type of crime it would be. This random forest analysis was not very accurate, with a score of only 33%. "
      ],
      "metadata": {
        "id": "TQzcKdXQmQgM"
      }
    },
    {
      "cell_type": "code",
      "execution_count": 79,
      "metadata": {
        "colab": {
          "base_uri": "https://localhost:8080/"
        },
        "id": "eibpekHl2r-w",
        "outputId": "acb4a7fe-e835-4557-b490-dbf59f0441ff"
      },
      "outputs": [
        {
          "output_type": "stream",
          "name": "stdout",
          "text": [
            "Scores from Random Forest Classification: \n",
            "Accuracy:  0.32875503050759447\n",
            "Precision:  0.25603292382261233\n",
            "F1 Score:  0.32875503050759447\n",
            "Recall:  0.32875503050759447\n",
            "Confusion Matrix: \n",
            "[[8419 3388    5   75   10    1    8    0    1   11   42    1    0    0\n",
            "     0    0    0    0    0    0]\n",
            " [5978 4127    4   64    9    0    5    2    0    6   20    0    0    0\n",
            "     0    0    0    0    0    0]\n",
            " [ 816  573    1   14    4    0    2    0    0    2    1    0    0    0\n",
            "     0    0    0    0    0    0]\n",
            " [2684 1698    7   38    6    0    4    1    0    7   16    0    0    0\n",
            "     0    0    0    0    0    0]\n",
            " [1219  740    2   17   17    0    0    1    0    4    6    0    0    0\n",
            "     0    0    0    0    0    0]\n",
            " [ 387  276    0    4    0    0    1    0    0    0    4    0    0    0\n",
            "     0    0    0    0    0    0]\n",
            " [ 878  702    1   10    4    0    4    0    0    1    6    0    0    0\n",
            "     0    0    0    0    0    0]\n",
            " [ 255  179    0    3    1    0    0    3    1    1    5    0    0    0\n",
            "     0    0    0    0    0    0]\n",
            " [ 199  110    0    1    0    0    0    0    0    1    8    0    0    0\n",
            "     0    0    0    0    0    0]\n",
            " [1480  852    2   19    4    0    4    0    0    4   14    0    0    0\n",
            "     0    0    0    0    0    0]\n",
            " [1732  660    1    8    2    0    3    1    0    2   49    0    0    0\n",
            "     0    0    0    0    0    0]\n",
            " [ 112   76    0    1    0    0    0    0    0    0    0    0    0    0\n",
            "     0    0    0    0    0    0]\n",
            " [  36   31    0    1    0    0    0    0    0    0    0    0    0    0\n",
            "     0    0    0    0    0    0]\n",
            " [  22   10    0    0    0    0    0    0    0    0    1    0    0    0\n",
            "     0    0    0    0    0    0]\n",
            " [  63   46    0    1    0    0    1    0    0    1    0    0    0    0\n",
            "     0    0    0    0    0    0]\n",
            " [  48   20    0    0    0    0    0    0    0    0    3    0    0    0\n",
            "     0    0    0    0    0    0]\n",
            " [  23   25    0    0    0    0    0    0    0    0    0    0    0    0\n",
            "     0    0    0    0    0    0]\n",
            " [  25   13    0    0    0    0    0    0    0    0    0    0    0    0\n",
            "     0    0    0    0    0    0]\n",
            " [   9    6    0    0    0    0    0    0    0    0    0    0    0    0\n",
            "     0    0    0    0    0    0]\n",
            " [   1    2    0    0    0    0    0    0    0    0    0    0    0    0\n",
            "     0    0    0    0    0    0]]\n"
          ]
        }
      ],
      "source": [
        "from sklearn.model_selection import train_test_split\n",
        "from sklearn.preprocessing import StandardScaler\n",
        "from sklearn import metrics\n",
        "from sklearn.ensemble import RandomForestClassifier\n",
        "from sklearn.metrics import precision_score, recall_score, confusion_matrix, classification_report, accuracy_score, f1_score\n",
        "from sklearn.metrics import mean_squared_error, r2_score\n",
        "\n",
        "dfForest = dfOriginal.copy(deep=True)\n",
        "\n",
        "# Extracting the hour of the day from the date column for each crime\n",
        "df['dateTemp'] = pd.to_datetime(df['date'])\n",
        "df['hour'] = df['dateTemp'].dt.hour\n",
        "df = df.drop(['dateTemp'], axis=1) \n",
        "\n",
        "df['primary_type'] = pd.factorize(df[\"primary_type\"])[0]  \n",
        "df['hour'] = pd.factorize(df[\"hour\"])[0] \n",
        "df['longitude'] = pd.factorize(df[\"longitude\"])[0] \n",
        "df['latitude'] = pd.factorize(df[\"latitude\"])[0] \n",
        "\n",
        "Target = 'primary_type'\n",
        "Features = [\"longitude\", \"latitude\", \"hour\"]\n",
        "x, y = train_test_split(df, test_size =0.2, random_state=997)\n",
        "\n",
        "\n",
        "rf_model = RandomForestClassifier(n_estimators=150, max_depth = 15)\n",
        "\n",
        "rf_model.fit(X=x[Features],y=x[Target])\n",
        "\n",
        "\n",
        "result = rf_model.predict(y[Features])\n",
        "acccuracy = accuracy_score(y[Target], result)\n",
        "recall = recall_score(y[Target], result, average=\"weighted\")\n",
        "precision = precision_score(y[Target], result, average=\"weighted\")\n",
        "f1 = f1_score(y[Target], result, average='micro')\n",
        "confusion = confusion_matrix(y[Target], result)\n",
        "\n",
        "print(\"Scores from Random Forest Classification: \")\n",
        "print(\"Accuracy: \", acccuracy)\n",
        "print(\"Precision: \", precision)\n",
        "print(\"F1 Score: \", f1)\n",
        "print(\"Recall: \", recall)\n",
        "print(\"Confusion Matrix: \")\n",
        "print(confusion)\n",
        "\n"
      ]
    },
    {
      "cell_type": "markdown",
      "metadata": {
        "id": "Hz6ncRMS1LqH"
      },
      "source": [
        "The only parts we have left is the ML analysis, the Reflection, and the Next Steps in the project report. We will finish the ML analysis by doing some more research on methods as well as sklearn documentation. The other two parts should be quickly completed after that. "
      ]
    },
    {
      "cell_type": "markdown",
      "metadata": {
        "id": "cbGLHho91LqI"
      },
      "source": [
        "# Reflection\n",
        "\n",
        "The hardest part of the project was that we did not have memory resources while making the code work and it kept crashing for the big dataset we have used. These were resolved by further trimming the data down and minimizing the features used in some analyses. Our initial insights and results are that the crime rate is definitely higher in the warmer months, and that most don't result in arrests, either because they go unsolved or for other reasons. The CPD has improvement to do in this regard. In addition, only a small fraction of crime in Chicago is actually homicide, so the population isn't as at risk of death as some media makes it out to be. Our biggest problems continue to be hardware, as well as figuring out appropriate ML algorithms to conduct analyses with. In addition, since we're using 2022 data to be up-to-date, we are missing November and December data mostly so that could result in biased analyses. We believe we are on track to finish this project by the end of the semester, and this is definitely worth proceeding with.  \n"
      ]
    },
    {
      "cell_type": "markdown",
      "source": [
        "**Next steps**"
      ],
      "metadata": {
        "id": "V4aFO2K2zf9B"
      }
    },
    {
      "cell_type": "markdown",
      "source": [
        "Going forward, we're looking to finish the visualizations, as well as the additional ML/Statistical Analysis techniques necessary. Ideally, we're planning on completing one or two a week, which should allow us to hit the deadline. We may pull in additional years of data as well if necessary."
      ],
      "metadata": {
        "id": "KtBhSKCAzjTy"
      }
    }
  ],
  "metadata": {
    "colab": {
      "provenance": [],
      "include_colab_link": true
    },
    "kernelspec": {
      "display_name": "Python 3 (ipykernel)",
      "language": "python",
      "name": "python3"
    },
    "language_info": {
      "codemirror_mode": {
        "name": "ipython",
        "version": 3
      },
      "file_extension": ".py",
      "mimetype": "text/x-python",
      "name": "python",
      "nbconvert_exporter": "python",
      "pygments_lexer": "ipython3",
      "version": "3.9.12"
    }
  },
  "nbformat": 4,
  "nbformat_minor": 0
}