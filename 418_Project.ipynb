{
  "nbformat": 4,
  "nbformat_minor": 0,
  "metadata": {
    "colab": {
      "provenance": [],
      "authorship_tag": "ABX9TyNcMHxGJj7DjtD8zCaYdhqd",
      "include_colab_link": true
    },
    "kernelspec": {
      "name": "python3",
      "display_name": "Python 3"
    },
    "language_info": {
      "name": "python"
    }
  },
  "cells": [
    {
      "cell_type": "markdown",
      "metadata": {
        "id": "view-in-github",
        "colab_type": "text"
      },
      "source": [
        "<a href=\"https://colab.research.google.com/github/CS418/group-project-jelabi/blob/main/418_Project.ipynb\" target=\"_parent\"><img src=\"https://colab.research.google.com/assets/colab-badge.svg\" alt=\"Open In Colab\"/></a>"
      ]
    },
    {
      "cell_type": "markdown",
      "source": [
        "Data Loading"
      ],
      "metadata": {
        "id": "wK2IIbnXif7T"
      }
    },
    {
      "cell_type": "code",
      "source": [
        "%matplotlib inline\n",
        "import sys\n",
        "import pandas as pd\n",
        "import numpy as np\n",
        "import scipy as sc\n",
        "import math\n",
        "import io\n",
        "import matplotlib\n",
        "import matplotlib.pyplot as plt\n",
        "import psycopg2\n",
        "import seaborn as sbn\n",
        "\n",
        "import pandas as pd\n",
        "!pip install sodapy\n",
        "from sodapy import Socrata\n",
        "\n",
        "# Unauthenticated client only works with public data sets. Note 'None'\n",
        "# in place of application token, and no username or password:\n",
        "client = Socrata(\"data.cityofchicago.org\", None)\n",
        "\n",
        "# Example authenticated client (needed for non-public datasets):\n",
        "# client = Socrata(data.cityofchicago.org,\n",
        "#                  MyAppToken,\n",
        "#                  username=\"user@example.com\",\n",
        "#                  password=\"AFakePassword\")\n",
        "\n",
        "# First 2000 results, returned as JSON from API / converted to Python list of\n",
        "# dictionaries by sodapy.\n",
        "results = client.get(\"9hwr-2zxp\", limit=200000)\n",
        "\n",
        "# Convert to pandas DataFrame\n",
        "dfOriginal = pd.DataFrame.from_records(results)\n",
        "dfOriginal.head()"
      ],
      "metadata": {
        "colab": {
          "base_uri": "https://localhost:8080/",
          "height": 855
        },
        "id": "YWJj3J1biU1r",
        "outputId": "502ead78-a0a4-4887-b299-26dd494128a5"
      },
      "execution_count": 1,
      "outputs": [
        {
          "output_type": "stream",
          "name": "stdout",
          "text": [
            "Looking in indexes: https://pypi.org/simple, https://us-python.pkg.dev/colab-wheels/public/simple/\n",
            "Collecting sodapy\n",
            "  Downloading sodapy-2.2.0-py2.py3-none-any.whl (15 kB)\n",
            "Collecting requests>=2.28.1\n",
            "  Downloading requests-2.28.1-py3-none-any.whl (62 kB)\n",
            "\u001b[K     |████████████████████████████████| 62 kB 215 kB/s \n",
            "\u001b[?25hRequirement already satisfied: urllib3<1.27,>=1.21.1 in /usr/local/lib/python3.7/dist-packages (from requests>=2.28.1->sodapy) (1.24.3)\n",
            "Requirement already satisfied: charset-normalizer<3,>=2 in /usr/local/lib/python3.7/dist-packages (from requests>=2.28.1->sodapy) (2.1.1)\n",
            "Requirement already satisfied: certifi>=2017.4.17 in /usr/local/lib/python3.7/dist-packages (from requests>=2.28.1->sodapy) (2022.9.24)\n",
            "Requirement already satisfied: idna<4,>=2.5 in /usr/local/lib/python3.7/dist-packages (from requests>=2.28.1->sodapy) (2.10)\n",
            "Installing collected packages: requests, sodapy\n",
            "  Attempting uninstall: requests\n",
            "    Found existing installation: requests 2.23.0\n",
            "    Uninstalling requests-2.23.0:\n",
            "      Successfully uninstalled requests-2.23.0\n",
            "Successfully installed requests-2.28.1 sodapy-2.2.0\n"
          ]
        },
        {
          "output_type": "stream",
          "name": "stderr",
          "text": [
            "WARNING:root:Requests made without an app_token will be subject to strict throttling limits.\n"
          ]
        },
        {
          "output_type": "execute_result",
          "data": {
            "text/plain": [
              "                      date                                           location  \\\n",
              "0  2022-10-27T23:59:00.000  {'latitude': '42.021675231', 'human_address': ...   \n",
              "1  2022-10-27T23:53:00.000  {'latitude': '41.902923197', 'human_address': ...   \n",
              "2  2022-10-27T23:50:00.000  {'latitude': '41.887872453', 'human_address': ...   \n",
              "3  2022-10-27T23:45:00.000  {'latitude': '41.960718285', 'human_address': ...   \n",
              "4  2022-10-27T23:45:00.000  {'latitude': '41.974607329', 'human_address': ...   \n",
              "\n",
              "  district                    block y_coordinate      latitude  \\\n",
              "0      024   077XX N MARSHFIELD AVE      1951183  42.021675231   \n",
              "1      012      028XX W DIVISION ST      1907857  41.902923197   \n",
              "2      001  003XX E LOWER WACKER DR      1902539  41.887872453   \n",
              "3      016         005XX W OHARE ST      1928598  41.960718285   \n",
              "4      020       012XX W Carmen Ave      1934055  41.974607329   \n",
              "\n",
              "               description                    location_description  \\\n",
              "0  DOMESTIC BATTERY SIMPLE                               APARTMENT   \n",
              "1             RETAIL THEFT                             GAS STATION   \n",
              "2               TO VEHICLE                                  STREET   \n",
              "3                   SIMPLE  PARKING LOT / GARAGE (NON RESIDENTIAL)   \n",
              "4                OVER $500                  DRIVEWAY - RESIDENTIAL   \n",
              "\n",
              "                updated_on community_area  ... ward case_number  year  \\\n",
              "0  2022-11-03T16:47:01.000              1  ...   49    JF452232  2022   \n",
              "1  2022-11-03T16:47:01.000             24  ...   26    JF452224  2022   \n",
              "2  2022-11-03T16:47:01.000             32  ...   42    JF452230  2022   \n",
              "3  2022-11-03T16:47:01.000             76  ...   41    JF452223  2022   \n",
              "4  2022-11-03T16:47:01.000              3  ...   47    JF453715  2022   \n",
              "\n",
              "  domestic fbi_code      longitude  beat     primary_type arrest        id  \n",
              "0     True      08B  -87.671894136  2422          BATTERY  False  12875321  \n",
              "1    False       06  -87.697288509  1211            THEFT  False  12874215  \n",
              "2    False       14  -87.619550708  0114  CRIMINAL DAMAGE  False  12874108  \n",
              "3    False      08B  -87.882620302  1654          BATTERY  False  12874165  \n",
              "4    False       06  -87.660635398  2033            THEFT  False  12876004  \n",
              "\n",
              "[5 rows x 22 columns]"
            ],
            "text/html": [
              "\n",
              "  <div id=\"df-d1ab8f0e-1182-432e-a2c5-48c540c7b9d6\">\n",
              "    <div class=\"colab-df-container\">\n",
              "      <div>\n",
              "<style scoped>\n",
              "    .dataframe tbody tr th:only-of-type {\n",
              "        vertical-align: middle;\n",
              "    }\n",
              "\n",
              "    .dataframe tbody tr th {\n",
              "        vertical-align: top;\n",
              "    }\n",
              "\n",
              "    .dataframe thead th {\n",
              "        text-align: right;\n",
              "    }\n",
              "</style>\n",
              "<table border=\"1\" class=\"dataframe\">\n",
              "  <thead>\n",
              "    <tr style=\"text-align: right;\">\n",
              "      <th></th>\n",
              "      <th>date</th>\n",
              "      <th>location</th>\n",
              "      <th>district</th>\n",
              "      <th>block</th>\n",
              "      <th>y_coordinate</th>\n",
              "      <th>latitude</th>\n",
              "      <th>description</th>\n",
              "      <th>location_description</th>\n",
              "      <th>updated_on</th>\n",
              "      <th>community_area</th>\n",
              "      <th>...</th>\n",
              "      <th>ward</th>\n",
              "      <th>case_number</th>\n",
              "      <th>year</th>\n",
              "      <th>domestic</th>\n",
              "      <th>fbi_code</th>\n",
              "      <th>longitude</th>\n",
              "      <th>beat</th>\n",
              "      <th>primary_type</th>\n",
              "      <th>arrest</th>\n",
              "      <th>id</th>\n",
              "    </tr>\n",
              "  </thead>\n",
              "  <tbody>\n",
              "    <tr>\n",
              "      <th>0</th>\n",
              "      <td>2022-10-27T23:59:00.000</td>\n",
              "      <td>{'latitude': '42.021675231', 'human_address': ...</td>\n",
              "      <td>024</td>\n",
              "      <td>077XX N MARSHFIELD AVE</td>\n",
              "      <td>1951183</td>\n",
              "      <td>42.021675231</td>\n",
              "      <td>DOMESTIC BATTERY SIMPLE</td>\n",
              "      <td>APARTMENT</td>\n",
              "      <td>2022-11-03T16:47:01.000</td>\n",
              "      <td>1</td>\n",
              "      <td>...</td>\n",
              "      <td>49</td>\n",
              "      <td>JF452232</td>\n",
              "      <td>2022</td>\n",
              "      <td>True</td>\n",
              "      <td>08B</td>\n",
              "      <td>-87.671894136</td>\n",
              "      <td>2422</td>\n",
              "      <td>BATTERY</td>\n",
              "      <td>False</td>\n",
              "      <td>12875321</td>\n",
              "    </tr>\n",
              "    <tr>\n",
              "      <th>1</th>\n",
              "      <td>2022-10-27T23:53:00.000</td>\n",
              "      <td>{'latitude': '41.902923197', 'human_address': ...</td>\n",
              "      <td>012</td>\n",
              "      <td>028XX W DIVISION ST</td>\n",
              "      <td>1907857</td>\n",
              "      <td>41.902923197</td>\n",
              "      <td>RETAIL THEFT</td>\n",
              "      <td>GAS STATION</td>\n",
              "      <td>2022-11-03T16:47:01.000</td>\n",
              "      <td>24</td>\n",
              "      <td>...</td>\n",
              "      <td>26</td>\n",
              "      <td>JF452224</td>\n",
              "      <td>2022</td>\n",
              "      <td>False</td>\n",
              "      <td>06</td>\n",
              "      <td>-87.697288509</td>\n",
              "      <td>1211</td>\n",
              "      <td>THEFT</td>\n",
              "      <td>False</td>\n",
              "      <td>12874215</td>\n",
              "    </tr>\n",
              "    <tr>\n",
              "      <th>2</th>\n",
              "      <td>2022-10-27T23:50:00.000</td>\n",
              "      <td>{'latitude': '41.887872453', 'human_address': ...</td>\n",
              "      <td>001</td>\n",
              "      <td>003XX E LOWER WACKER DR</td>\n",
              "      <td>1902539</td>\n",
              "      <td>41.887872453</td>\n",
              "      <td>TO VEHICLE</td>\n",
              "      <td>STREET</td>\n",
              "      <td>2022-11-03T16:47:01.000</td>\n",
              "      <td>32</td>\n",
              "      <td>...</td>\n",
              "      <td>42</td>\n",
              "      <td>JF452230</td>\n",
              "      <td>2022</td>\n",
              "      <td>False</td>\n",
              "      <td>14</td>\n",
              "      <td>-87.619550708</td>\n",
              "      <td>0114</td>\n",
              "      <td>CRIMINAL DAMAGE</td>\n",
              "      <td>False</td>\n",
              "      <td>12874108</td>\n",
              "    </tr>\n",
              "    <tr>\n",
              "      <th>3</th>\n",
              "      <td>2022-10-27T23:45:00.000</td>\n",
              "      <td>{'latitude': '41.960718285', 'human_address': ...</td>\n",
              "      <td>016</td>\n",
              "      <td>005XX W OHARE ST</td>\n",
              "      <td>1928598</td>\n",
              "      <td>41.960718285</td>\n",
              "      <td>SIMPLE</td>\n",
              "      <td>PARKING LOT / GARAGE (NON RESIDENTIAL)</td>\n",
              "      <td>2022-11-03T16:47:01.000</td>\n",
              "      <td>76</td>\n",
              "      <td>...</td>\n",
              "      <td>41</td>\n",
              "      <td>JF452223</td>\n",
              "      <td>2022</td>\n",
              "      <td>False</td>\n",
              "      <td>08B</td>\n",
              "      <td>-87.882620302</td>\n",
              "      <td>1654</td>\n",
              "      <td>BATTERY</td>\n",
              "      <td>False</td>\n",
              "      <td>12874165</td>\n",
              "    </tr>\n",
              "    <tr>\n",
              "      <th>4</th>\n",
              "      <td>2022-10-27T23:45:00.000</td>\n",
              "      <td>{'latitude': '41.974607329', 'human_address': ...</td>\n",
              "      <td>020</td>\n",
              "      <td>012XX W Carmen Ave</td>\n",
              "      <td>1934055</td>\n",
              "      <td>41.974607329</td>\n",
              "      <td>OVER $500</td>\n",
              "      <td>DRIVEWAY - RESIDENTIAL</td>\n",
              "      <td>2022-11-03T16:47:01.000</td>\n",
              "      <td>3</td>\n",
              "      <td>...</td>\n",
              "      <td>47</td>\n",
              "      <td>JF453715</td>\n",
              "      <td>2022</td>\n",
              "      <td>False</td>\n",
              "      <td>06</td>\n",
              "      <td>-87.660635398</td>\n",
              "      <td>2033</td>\n",
              "      <td>THEFT</td>\n",
              "      <td>False</td>\n",
              "      <td>12876004</td>\n",
              "    </tr>\n",
              "  </tbody>\n",
              "</table>\n",
              "<p>5 rows × 22 columns</p>\n",
              "</div>\n",
              "      <button class=\"colab-df-convert\" onclick=\"convertToInteractive('df-d1ab8f0e-1182-432e-a2c5-48c540c7b9d6')\"\n",
              "              title=\"Convert this dataframe to an interactive table.\"\n",
              "              style=\"display:none;\">\n",
              "        \n",
              "  <svg xmlns=\"http://www.w3.org/2000/svg\" height=\"24px\"viewBox=\"0 0 24 24\"\n",
              "       width=\"24px\">\n",
              "    <path d=\"M0 0h24v24H0V0z\" fill=\"none\"/>\n",
              "    <path d=\"M18.56 5.44l.94 2.06.94-2.06 2.06-.94-2.06-.94-.94-2.06-.94 2.06-2.06.94zm-11 1L8.5 8.5l.94-2.06 2.06-.94-2.06-.94L8.5 2.5l-.94 2.06-2.06.94zm10 10l.94 2.06.94-2.06 2.06-.94-2.06-.94-.94-2.06-.94 2.06-2.06.94z\"/><path d=\"M17.41 7.96l-1.37-1.37c-.4-.4-.92-.59-1.43-.59-.52 0-1.04.2-1.43.59L10.3 9.45l-7.72 7.72c-.78.78-.78 2.05 0 2.83L4 21.41c.39.39.9.59 1.41.59.51 0 1.02-.2 1.41-.59l7.78-7.78 2.81-2.81c.8-.78.8-2.07 0-2.86zM5.41 20L4 18.59l7.72-7.72 1.47 1.35L5.41 20z\"/>\n",
              "  </svg>\n",
              "      </button>\n",
              "      \n",
              "  <style>\n",
              "    .colab-df-container {\n",
              "      display:flex;\n",
              "      flex-wrap:wrap;\n",
              "      gap: 12px;\n",
              "    }\n",
              "\n",
              "    .colab-df-convert {\n",
              "      background-color: #E8F0FE;\n",
              "      border: none;\n",
              "      border-radius: 50%;\n",
              "      cursor: pointer;\n",
              "      display: none;\n",
              "      fill: #1967D2;\n",
              "      height: 32px;\n",
              "      padding: 0 0 0 0;\n",
              "      width: 32px;\n",
              "    }\n",
              "\n",
              "    .colab-df-convert:hover {\n",
              "      background-color: #E2EBFA;\n",
              "      box-shadow: 0px 1px 2px rgba(60, 64, 67, 0.3), 0px 1px 3px 1px rgba(60, 64, 67, 0.15);\n",
              "      fill: #174EA6;\n",
              "    }\n",
              "\n",
              "    [theme=dark] .colab-df-convert {\n",
              "      background-color: #3B4455;\n",
              "      fill: #D2E3FC;\n",
              "    }\n",
              "\n",
              "    [theme=dark] .colab-df-convert:hover {\n",
              "      background-color: #434B5C;\n",
              "      box-shadow: 0px 1px 3px 1px rgba(0, 0, 0, 0.15);\n",
              "      filter: drop-shadow(0px 1px 2px rgba(0, 0, 0, 0.3));\n",
              "      fill: #FFFFFF;\n",
              "    }\n",
              "  </style>\n",
              "\n",
              "      <script>\n",
              "        const buttonEl =\n",
              "          document.querySelector('#df-d1ab8f0e-1182-432e-a2c5-48c540c7b9d6 button.colab-df-convert');\n",
              "        buttonEl.style.display =\n",
              "          google.colab.kernel.accessAllowed ? 'block' : 'none';\n",
              "\n",
              "        async function convertToInteractive(key) {\n",
              "          const element = document.querySelector('#df-d1ab8f0e-1182-432e-a2c5-48c540c7b9d6');\n",
              "          const dataTable =\n",
              "            await google.colab.kernel.invokeFunction('convertToInteractive',\n",
              "                                                     [key], {});\n",
              "          if (!dataTable) return;\n",
              "\n",
              "          const docLinkHtml = 'Like what you see? Visit the ' +\n",
              "            '<a target=\"_blank\" href=https://colab.research.google.com/notebooks/data_table.ipynb>data table notebook</a>'\n",
              "            + ' to learn more about interactive tables.';\n",
              "          element.innerHTML = '';\n",
              "          dataTable['output_type'] = 'display_data';\n",
              "          await google.colab.output.renderOutput(dataTable, element);\n",
              "          const docLink = document.createElement('div');\n",
              "          docLink.innerHTML = docLinkHtml;\n",
              "          element.appendChild(docLink);\n",
              "        }\n",
              "      </script>\n",
              "    </div>\n",
              "  </div>\n",
              "  "
            ]
          },
          "metadata": {},
          "execution_count": 1
        }
      ]
    },
    {
      "cell_type": "markdown",
      "source": [
        "The data above is primarily a large set of reported crime incidents. It contains a variety of important attributes for each crime, including but not limited to its location, the type of crime, the timestamp, whether or not it resulted in an arrest, etc. This dataset seems to heavily focus on location interestingly enough, as it has a variety of different attributes related to it such as coordinates, address, ward number, etc."
      ],
      "metadata": {
        "id": "M93maudyv4x8"
      }
    },
    {
      "cell_type": "markdown",
      "source": [
        "Data Cleaning"
      ],
      "metadata": {
        "id": "b7Nt7CPFiWEq"
      }
    },
    {
      "cell_type": "code",
      "source": [
        "from wordcloud import WordCloud, STOPWORDS, ImageColorGenerator\n",
        "df = dfOriginal.drop(columns=['case_number', 'iucr', 'beat', 'fbi_code', 'updated_on']) #Cleaning by dropping unneeded columns"
      ],
      "metadata": {
        "id": "phQHE69siX1a"
      },
      "execution_count": 2,
      "outputs": []
    },
    {
      "cell_type": "code",
      "source": [
        "# Merging certain similar features\n",
        "df.loc[df[\"primary_type\"] == \"MOTOR VEHICLE THEFT\", \"primary_type\"] = \"THEFT\"\n",
        "df.loc[df[\"primary_type\"] == \"CRIMINAL SEXUAL ASSAULT\", \"primary_type\"] = \"SEX OFFENSE\"\n",
        "df.loc[df[\"primary_type\"] == \"BATTERY\", \"primary_type\"] = \"ASSAULT\"\n",
        "df.loc[df[\"primary_type\"] == \"CRIMINAL TRESPASS\", \"primary_type\"] = \"BURGLARY\"\n",
        "df.loc[df[\"primary_type\"] == \"INTERFERENCE WITH PUBLIC OFFICER\", \"primary_type\"] = \"PUBLIC PEACE VIOLATION\"\n",
        "df.loc[df[\"primary_type\"] == \"OBSCENITY\", \"primary_type\"] = \"PUBLIC PEACE VIOLATION\"\n",
        "df.loc[df[\"primary_type\"] == \"PUBLIC INDECENCY\", \"primary_type\"] = \"SEX OFFENSE\"\n",
        "df.loc[df[\"primary_type\"] == \"CONCEALED CARRY LICENSE VIOLATION\", \"primary_type\"] = \"WEAPONS VIOLATION\"\n",
        "df.loc[df[\"primary_type\"] == \"OTHER NARCOTIC VIOLATION\", \"primary_type\"] = \"NARCOTICS\"\n",
        "\n",
        "df.isna().sum().sum() #Drop rows with any missing values, very small amount of data\n"
      ],
      "metadata": {
        "colab": {
          "base_uri": "https://localhost:8080/"
        },
        "id": "1C6dOXCziZGC",
        "outputId": "335685ba-118e-4cc8-88dc-b03a109e9ec9"
      },
      "execution_count": 3,
      "outputs": [
        {
          "output_type": "execute_result",
          "data": {
            "text/plain": [
              "7911"
            ]
          },
          "metadata": {},
          "execution_count": 3
        }
      ]
    },
    {
      "cell_type": "markdown",
      "source": [
        "Data Visualization"
      ],
      "metadata": {
        "id": "TLgVZci1iZ_x"
      }
    },
    {
      "cell_type": "code",
      "source": [
        "df['primary_type'].value_counts().plot(kind='bar')\n",
        "plt.show()\n",
        "\n",
        "\n",
        "arrest_df = df['arrest'].value_counts()\n",
        "arrest_count = (arrest_df / df['arrest'].sum())\n",
        "arrest_count.rename(\"Detentions\",inplace=True)\n",
        "arrest_count.rename({True: 'Arrested', False: 'Not Arrested'},inplace=True)\n",
        "arrest_count.plot.pie(y=1, figsize=(5, 5))\n",
        "plt.show()\n",
        "\n",
        "crimeDate = df.copy(deep=True)\n",
        "crimeDate.date = pd.to_datetime(crimeDate.date, format = '%Y-%m-%dT%H:%M:%S.000')\n",
        "crimeDate.index = pd.DatetimeIndex(crimeDate.date)\n",
        "\n",
        "plt.figure(figsize = (8,5))\n",
        "crimeDate.groupby([crimeDate.index.month]).size().plot.line()\n",
        "\n",
        "plt.title('Crime By Month in 2022')\n",
        "plt.ylabel('Crime Count')\n",
        "plt.xlabel('Month')\n",
        "plt.show()"
      ],
      "metadata": {
        "colab": {
          "base_uri": "https://localhost:8080/",
          "height": 1000
        },
        "id": "szivcCcZibUC",
        "outputId": "ef4967be-ed3c-4376-d90c-f122f00f69a8"
      },
      "execution_count": 4,
      "outputs": [
        {
          "output_type": "display_data",
          "data": {
            "text/plain": [
              "<Figure size 432x288 with 1 Axes>"
            ],
            "image/png": "[encoded data removed]"
          },
          "metadata": {
            "needs_background": "light"
          }
        },
        {
          "output_type": "display_data",
          "data": {
            "text/plain": [
              "<Figure size 360x360 with 1 Axes>"
            ],
            "image/png": "[encoded data removed]"
          },
          "metadata": {}
        },
        {
          "output_type": "display_data",
          "data": {
            "text/plain": [
              "<Figure size 576x360 with 1 Axes>"
            ],
            "image/png": "[encoded data removed]"
          },
          "metadata": {
            "needs_background": "light"
          }
        }
      ]
    },
    {
      "cell_type": "markdown",
      "source": [
        "3 visualizations are listed above. Contrary to popular opinion and our hypothesis, homicide was nowhere near the top number of crimes committed in Chicago. Theft and assault accounted for a majority. \n",
        "\n",
        "In addition, out of most reported crimes, only about 1/8 of them resulted in arrests. We had hypothesized this, as many crimes go unsolved in Chicago.\n",
        "\n",
        "Lastly, the final graph shows that crime rises significantly during the warmer spring and summer months, before falling in the winter and fall. This lines up with our hypothesis, as harsher weather depresses all sorts of activity. "
      ],
      "metadata": {
        "id": "FtQA1ykzvGgC"
      }
    }
  ]
}